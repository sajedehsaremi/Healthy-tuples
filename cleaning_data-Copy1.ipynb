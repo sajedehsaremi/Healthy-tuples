{
 "cells": [
  {
   "cell_type": "markdown",
   "id": "57b7bd8b",
   "metadata": {},
   "source": [
    "$ pip install plotly==5.1.0"
   ]
  },
  {
   "cell_type": "code",
   "execution_count": 60,
   "id": "2d033bbe",
   "metadata": {},
   "outputs": [],
   "source": [
    "# Dependencies\n",
    "import numpy as np\n",
    "import pandas as pd\n",
    "import matplotlib.pyplot as plt\n",
    "from scipy.stats import linregress\n",
    "import seaborn as sns\n",
    "%matplotlib inline\n"
   ]
  },
  {
   "cell_type": "code",
   "execution_count": 61,
   "id": "80b66b61",
   "metadata": {},
   "outputs": [
    {
     "data": {
      "text/plain": [
       "ID                   int64\n",
       "male                 int64\n",
       "age                  int64\n",
       "education          float64\n",
       "currentSmoker        int64\n",
       "cigsPerDay         float64\n",
       "BPMeds             float64\n",
       "prevalentStroke      int64\n",
       "prevalentHyp         int64\n",
       "diabetes             int64\n",
       "totChol            float64\n",
       "sysBP              float64\n",
       "diaBP              float64\n",
       "BMI                float64\n",
       "heartRate          float64\n",
       "glucose            float64\n",
       "TenYearCHD           int64\n",
       "dtype: object"
      ]
     },
     "execution_count": 61,
     "metadata": {},
     "output_type": "execute_result"
    }
   ],
   "source": [
    "# import the farmingham data\n",
    "# 'male':0 = Female; 1 = Male\n",
    "farmingham_data = pd.read_csv(\"output_data/framingham.csv\")\n",
    "# identify any null values\n",
    "farmingham_data.count()\n",
    "# identify the data type\n",
    "farmingham_data.dtypes\n"
   ]
  },
  {
   "cell_type": "code",
   "execution_count": 62,
   "id": "b160caac",
   "metadata": {},
   "outputs": [
    {
     "name": "stdout",
     "output_type": "stream",
     "text": [
      "ID                 3658\n",
      "male               3658\n",
      "age                3658\n",
      "education          3658\n",
      "currentSmoker      3658\n",
      "cigsPerDay         3658\n",
      "BPMeds             3658\n",
      "prevalentStroke    3658\n",
      "prevalentHyp       3658\n",
      "diabetes           3658\n",
      "totChol            3658\n",
      "sysBP              3658\n",
      "diaBP              3658\n",
      "BMI                3658\n",
      "heartRate          3658\n",
      "glucose            3658\n",
      "TenYearCHD         3658\n",
      "dtype: int64\n"
     ]
    }
   ],
   "source": [
    "# drop any null valules - lets not drop the null values and fill it in with mean\n",
    "farmingham_data = farmingham_data.dropna(how=\"any\")\n",
    "print(farmingham_data.count())\n"
   ]
  },
  {
   "cell_type": "code",
   "execution_count": 63,
   "id": "975ba371",
   "metadata": {},
   "outputs": [
    {
     "data": {
      "text/plain": [
       "ID                   int64\n",
       "male                 int64\n",
       "age                  int64\n",
       "education            int32\n",
       "currentSmoker        int64\n",
       "cigsPerDay           int32\n",
       "BPMeds               int32\n",
       "prevalentStroke      int64\n",
       "prevalentHyp         int64\n",
       "diabetes             int64\n",
       "totChol              int32\n",
       "sysBP                int32\n",
       "diaBP                int32\n",
       "BMI                float64\n",
       "heartRate            int32\n",
       "glucose            float64\n",
       "TenYearCHD           int64\n",
       "dtype: object"
      ]
     },
     "execution_count": 63,
     "metadata": {},
     "output_type": "execute_result"
    }
   ],
   "source": [
    "\n",
    "\n",
    "#  convert the someof the floats to integer\n",
    "farmingham_data.loc[:, \"BPMeds\"] = farmingham_data.loc[:, \"BPMeds\"].astype(\"int\")\n",
    "farmingham_data.loc[:, \"education\"] = farmingham_data.loc[:, \"education\"].astype(\"int\")\n",
    "farmingham_data.loc[:, \"cigsPerDay\"] = farmingham_data.loc[:, \"cigsPerDay\"].astype(\"int\")\n",
    "farmingham_data.loc[:, \"totChol\"] = farmingham_data.loc[:, \"totChol\"].astype(\"int\")\n",
    "farmingham_data.loc[:, \"sysBP\"] = farmingham_data.loc[:, \"sysBP\"].astype(\"int\")\n",
    "farmingham_data.loc[:, \"diaBP\"] = farmingham_data.loc[:, \"diaBP\"].astype(\"int\")\n",
    "farmingham_data.loc[:, \"heartRate\"] = farmingham_data.loc[:, \"heartRate\"].astype(\"int\")\n",
    "farmingham_data.dtypes\n"
   ]
  },
  {
   "cell_type": "code",
   "execution_count": 64,
   "id": "409ea3ea",
   "metadata": {},
   "outputs": [],
   "source": [
    "# rename the column name 'male' to 'Gender' and replace 0,1 to female and male\n",
    "# replace Diabetes: from 0,1 to negative and positive\n",
    "# replace TenYearCHD: from 0,1 to negative and positive\n",
    "# Renamed Column headers\n",
    "\n",
    "clean_df = farmingham_data.rename(columns = {\"male\": \"Gender\",\"age\": \"Age\",\"currentSmoker\":\"Current-Smoker\",\n",
    "                                           \"cigsPerDay\":\"Cigarettes-Per-Day\",\"education\":\"Education\",\n",
    "                                            \"prevalentStroke\":\"Prevalent-Stroke\",\"prevalentHyp\":\"Prevalent-Hyp\",\n",
    "                                           \"diabetes\":\"Diabetes\",\"totChol\":\"Total-Cholesterol\",\n",
    "                                           \"sysBP\":\"Systolic-Blood-Pressure\",\"BPMeds\":\"Blood-Pressure-Medication\",\"diaBP\":\"Diastolic-Blood-Pressure\",\n",
    "                                           \"heartRate\":\"Heart-Rate\",\"glucose\":\"Glucose\",\"TenYearCHD\":\"Ten-Year-CHD\"})\n",
    "clean_df[\"Gender\"]= clean_df[\"Gender\"].replace(1, \"Male\")\n",
    "clean_df[\"Gender\"]= clean_df[\"Gender\"].replace(0, \"Female\")\n",
    "clean_df[\"Ten-Year-CHD\"]= clean_df[\"Ten-Year-CHD\"].replace(0, \"negative\")\n",
    "clean_df[\"Ten-Year-CHD\"]= clean_df[\"Ten-Year-CHD\"].replace(1, \"positive\")\n",
    "clean_df[\"Diabetes\"]= clean_df[\"Diabetes\"].replace(0, \"negative\")\n",
    "clean_df[\"Diabetes\"]= clean_df[\"Diabetes\"].replace(1, \"positive\")\n",
    "clean_df[\"Education\"]= clean_df[\"Education\"].replace(1, \"Some High School\")\n",
    "clean_df[\"Education\"]= clean_df[\"Education\"].replace(2, \"High School or GED\")\n",
    "clean_df[\"Education\"]= clean_df[\"Education\"].replace(3, \"Some college or Vocational School\")\n",
    "clean_df[\"Education\"]= clean_df[\"Education\"].replace(4, \"College\")\n",
    "clean_df[\"Prevalent-Stroke\"]= clean_df[\"Prevalent-Stroke\"].replace(0, \"Never had a stroke\")\n",
    "clean_df[\"Prevalent-Stroke\"]= clean_df[\"Prevalent-Stroke\"].replace(1, \"Has had a stroke\")\n",
    "\n",
    "\n",
    "clean_df.count()\n",
    "# find any duplicated data - No duplicates found\n",
    "clean_df.duplicated()\n",
    "# Describe the data\n",
    "clean_df.describe()\n"
   ]
  },
  {
   "cell_type": "code",
   "execution_count": 45,
   "id": "130156f2",
   "metadata": {},
   "outputs": [
    {
     "data": {
      "text/html": [
       "<div>\n",
       "<style scoped>\n",
       "    .dataframe tbody tr th:only-of-type {\n",
       "        vertical-align: middle;\n",
       "    }\n",
       "\n",
       "    .dataframe tbody tr th {\n",
       "        vertical-align: top;\n",
       "    }\n",
       "\n",
       "    .dataframe thead th {\n",
       "        text-align: right;\n",
       "    }\n",
       "</style>\n",
       "<table border=\"1\" class=\"dataframe\">\n",
       "  <thead>\n",
       "    <tr style=\"text-align: right;\">\n",
       "      <th></th>\n",
       "      <th>ID</th>\n",
       "      <th>Gender</th>\n",
       "      <th>Age</th>\n",
       "      <th>Education</th>\n",
       "      <th>Current-Smoker</th>\n",
       "      <th>Cigarettes-Per-Day</th>\n",
       "      <th>Blood-Pressure-Medication</th>\n",
       "      <th>Prevalent-Stroke</th>\n",
       "      <th>Prevalent-Hyp</th>\n",
       "      <th>Diabetes</th>\n",
       "      <th>Total-Cholesterol</th>\n",
       "      <th>Systolic-Blood-Pressure</th>\n",
       "      <th>Diastolic-Blood-Pressure</th>\n",
       "      <th>BMI</th>\n",
       "      <th>Heart-Rate</th>\n",
       "      <th>Glucose</th>\n",
       "      <th>Ten-Year-CHD</th>\n",
       "    </tr>\n",
       "  </thead>\n",
       "  <tbody>\n",
       "    <tr>\n",
       "      <th>0</th>\n",
       "      <td>1</td>\n",
       "      <td>Male</td>\n",
       "      <td>39</td>\n",
       "      <td>College</td>\n",
       "      <td>0</td>\n",
       "      <td>0</td>\n",
       "      <td>0</td>\n",
       "      <td>Never had a stroke</td>\n",
       "      <td>0</td>\n",
       "      <td>negative</td>\n",
       "      <td>195</td>\n",
       "      <td>106</td>\n",
       "      <td>70</td>\n",
       "      <td>26.97</td>\n",
       "      <td>80</td>\n",
       "      <td>77.0</td>\n",
       "      <td>negative</td>\n",
       "    </tr>\n",
       "    <tr>\n",
       "      <th>1</th>\n",
       "      <td>2</td>\n",
       "      <td>Female</td>\n",
       "      <td>46</td>\n",
       "      <td>High School or GED</td>\n",
       "      <td>0</td>\n",
       "      <td>0</td>\n",
       "      <td>0</td>\n",
       "      <td>Never had a stroke</td>\n",
       "      <td>0</td>\n",
       "      <td>negative</td>\n",
       "      <td>250</td>\n",
       "      <td>121</td>\n",
       "      <td>81</td>\n",
       "      <td>28.73</td>\n",
       "      <td>95</td>\n",
       "      <td>76.0</td>\n",
       "      <td>negative</td>\n",
       "    </tr>\n",
       "    <tr>\n",
       "      <th>2</th>\n",
       "      <td>3</td>\n",
       "      <td>Male</td>\n",
       "      <td>48</td>\n",
       "      <td>Some High School</td>\n",
       "      <td>1</td>\n",
       "      <td>20</td>\n",
       "      <td>0</td>\n",
       "      <td>Never had a stroke</td>\n",
       "      <td>0</td>\n",
       "      <td>negative</td>\n",
       "      <td>245</td>\n",
       "      <td>127</td>\n",
       "      <td>80</td>\n",
       "      <td>25.34</td>\n",
       "      <td>75</td>\n",
       "      <td>70.0</td>\n",
       "      <td>negative</td>\n",
       "    </tr>\n",
       "    <tr>\n",
       "      <th>3</th>\n",
       "      <td>4</td>\n",
       "      <td>Female</td>\n",
       "      <td>61</td>\n",
       "      <td>Some college or Vocational School</td>\n",
       "      <td>1</td>\n",
       "      <td>30</td>\n",
       "      <td>0</td>\n",
       "      <td>Never had a stroke</td>\n",
       "      <td>1</td>\n",
       "      <td>negative</td>\n",
       "      <td>225</td>\n",
       "      <td>150</td>\n",
       "      <td>95</td>\n",
       "      <td>28.58</td>\n",
       "      <td>65</td>\n",
       "      <td>103.0</td>\n",
       "      <td>positive</td>\n",
       "    </tr>\n",
       "    <tr>\n",
       "      <th>4</th>\n",
       "      <td>5</td>\n",
       "      <td>Female</td>\n",
       "      <td>46</td>\n",
       "      <td>Some college or Vocational School</td>\n",
       "      <td>1</td>\n",
       "      <td>23</td>\n",
       "      <td>0</td>\n",
       "      <td>Never had a stroke</td>\n",
       "      <td>0</td>\n",
       "      <td>negative</td>\n",
       "      <td>285</td>\n",
       "      <td>130</td>\n",
       "      <td>84</td>\n",
       "      <td>23.10</td>\n",
       "      <td>85</td>\n",
       "      <td>85.0</td>\n",
       "      <td>negative</td>\n",
       "    </tr>\n",
       "    <tr>\n",
       "      <th>...</th>\n",
       "      <td>...</td>\n",
       "      <td>...</td>\n",
       "      <td>...</td>\n",
       "      <td>...</td>\n",
       "      <td>...</td>\n",
       "      <td>...</td>\n",
       "      <td>...</td>\n",
       "      <td>...</td>\n",
       "      <td>...</td>\n",
       "      <td>...</td>\n",
       "      <td>...</td>\n",
       "      <td>...</td>\n",
       "      <td>...</td>\n",
       "      <td>...</td>\n",
       "      <td>...</td>\n",
       "      <td>...</td>\n",
       "      <td>...</td>\n",
       "    </tr>\n",
       "    <tr>\n",
       "      <th>4232</th>\n",
       "      <td>4233</td>\n",
       "      <td>Male</td>\n",
       "      <td>68</td>\n",
       "      <td>Some High School</td>\n",
       "      <td>0</td>\n",
       "      <td>0</td>\n",
       "      <td>0</td>\n",
       "      <td>Never had a stroke</td>\n",
       "      <td>1</td>\n",
       "      <td>negative</td>\n",
       "      <td>176</td>\n",
       "      <td>168</td>\n",
       "      <td>97</td>\n",
       "      <td>23.14</td>\n",
       "      <td>60</td>\n",
       "      <td>79.0</td>\n",
       "      <td>positive</td>\n",
       "    </tr>\n",
       "    <tr>\n",
       "      <th>4233</th>\n",
       "      <td>4234</td>\n",
       "      <td>Male</td>\n",
       "      <td>50</td>\n",
       "      <td>Some High School</td>\n",
       "      <td>1</td>\n",
       "      <td>1</td>\n",
       "      <td>0</td>\n",
       "      <td>Never had a stroke</td>\n",
       "      <td>1</td>\n",
       "      <td>negative</td>\n",
       "      <td>313</td>\n",
       "      <td>179</td>\n",
       "      <td>92</td>\n",
       "      <td>25.97</td>\n",
       "      <td>66</td>\n",
       "      <td>86.0</td>\n",
       "      <td>positive</td>\n",
       "    </tr>\n",
       "    <tr>\n",
       "      <th>4234</th>\n",
       "      <td>4235</td>\n",
       "      <td>Male</td>\n",
       "      <td>51</td>\n",
       "      <td>Some college or Vocational School</td>\n",
       "      <td>1</td>\n",
       "      <td>43</td>\n",
       "      <td>0</td>\n",
       "      <td>Never had a stroke</td>\n",
       "      <td>0</td>\n",
       "      <td>negative</td>\n",
       "      <td>207</td>\n",
       "      <td>126</td>\n",
       "      <td>80</td>\n",
       "      <td>19.71</td>\n",
       "      <td>65</td>\n",
       "      <td>68.0</td>\n",
       "      <td>negative</td>\n",
       "    </tr>\n",
       "    <tr>\n",
       "      <th>4237</th>\n",
       "      <td>4238</td>\n",
       "      <td>Female</td>\n",
       "      <td>52</td>\n",
       "      <td>High School or GED</td>\n",
       "      <td>0</td>\n",
       "      <td>0</td>\n",
       "      <td>0</td>\n",
       "      <td>Never had a stroke</td>\n",
       "      <td>0</td>\n",
       "      <td>negative</td>\n",
       "      <td>269</td>\n",
       "      <td>133</td>\n",
       "      <td>83</td>\n",
       "      <td>21.47</td>\n",
       "      <td>80</td>\n",
       "      <td>107.0</td>\n",
       "      <td>negative</td>\n",
       "    </tr>\n",
       "    <tr>\n",
       "      <th>4238</th>\n",
       "      <td>4239</td>\n",
       "      <td>Male</td>\n",
       "      <td>40</td>\n",
       "      <td>Some college or Vocational School</td>\n",
       "      <td>0</td>\n",
       "      <td>0</td>\n",
       "      <td>0</td>\n",
       "      <td>Never had a stroke</td>\n",
       "      <td>1</td>\n",
       "      <td>negative</td>\n",
       "      <td>185</td>\n",
       "      <td>141</td>\n",
       "      <td>98</td>\n",
       "      <td>25.60</td>\n",
       "      <td>67</td>\n",
       "      <td>72.0</td>\n",
       "      <td>negative</td>\n",
       "    </tr>\n",
       "  </tbody>\n",
       "</table>\n",
       "<p>3657 rows × 17 columns</p>\n",
       "</div>"
      ],
      "text/plain": [
       "        ID  Gender  Age                          Education  Current-Smoker  \\\n",
       "0        1    Male   39                            College               0   \n",
       "1        2  Female   46                 High School or GED               0   \n",
       "2        3    Male   48                   Some High School               1   \n",
       "3        4  Female   61  Some college or Vocational School               1   \n",
       "4        5  Female   46  Some college or Vocational School               1   \n",
       "...    ...     ...  ...                                ...             ...   \n",
       "4232  4233    Male   68                   Some High School               0   \n",
       "4233  4234    Male   50                   Some High School               1   \n",
       "4234  4235    Male   51  Some college or Vocational School               1   \n",
       "4237  4238  Female   52                 High School or GED               0   \n",
       "4238  4239    Male   40  Some college or Vocational School               0   \n",
       "\n",
       "      Cigarettes-Per-Day  Blood-Pressure-Medication    Prevalent-Stroke  \\\n",
       "0                      0                          0  Never had a stroke   \n",
       "1                      0                          0  Never had a stroke   \n",
       "2                     20                          0  Never had a stroke   \n",
       "3                     30                          0  Never had a stroke   \n",
       "4                     23                          0  Never had a stroke   \n",
       "...                  ...                        ...                 ...   \n",
       "4232                   0                          0  Never had a stroke   \n",
       "4233                   1                          0  Never had a stroke   \n",
       "4234                  43                          0  Never had a stroke   \n",
       "4237                   0                          0  Never had a stroke   \n",
       "4238                   0                          0  Never had a stroke   \n",
       "\n",
       "      Prevalent-Hyp  Diabetes  Total-Cholesterol  Systolic-Blood-Pressure  \\\n",
       "0                 0  negative                195                      106   \n",
       "1                 0  negative                250                      121   \n",
       "2                 0  negative                245                      127   \n",
       "3                 1  negative                225                      150   \n",
       "4                 0  negative                285                      130   \n",
       "...             ...       ...                ...                      ...   \n",
       "4232              1  negative                176                      168   \n",
       "4233              1  negative                313                      179   \n",
       "4234              0  negative                207                      126   \n",
       "4237              0  negative                269                      133   \n",
       "4238              1  negative                185                      141   \n",
       "\n",
       "      Diastolic-Blood-Pressure    BMI  Heart-Rate  Glucose Ten-Year-CHD  \n",
       "0                           70  26.97          80     77.0     negative  \n",
       "1                           81  28.73          95     76.0     negative  \n",
       "2                           80  25.34          75     70.0     negative  \n",
       "3                           95  28.58          65    103.0     positive  \n",
       "4                           84  23.10          85     85.0     negative  \n",
       "...                        ...    ...         ...      ...          ...  \n",
       "4232                        97  23.14          60     79.0     positive  \n",
       "4233                        92  25.97          66     86.0     positive  \n",
       "4234                        80  19.71          65     68.0     negative  \n",
       "4237                        83  21.47          80    107.0     negative  \n",
       "4238                        98  25.60          67     72.0     negative  \n",
       "\n",
       "[3657 rows x 17 columns]"
      ]
     },
     "execution_count": 45,
     "metadata": {},
     "output_type": "execute_result"
    }
   ],
   "source": [
    "clean_df.head(-1)"
   ]
  },
  {
   "cell_type": "code",
   "execution_count": 46,
   "id": "f901c204",
   "metadata": {
    "scrolled": true
   },
   "outputs": [
    {
     "data": {
      "image/png": "[encoded data removed]",
      "text/plain": [
       "<Figure size 792x504 with 1 Axes>"
      ]
     },
     "metadata": {},
     "output_type": "display_data"
    }
   ],
   "source": [
    "# enerate a pie plot showing female versus male distribution in dataset\n",
    "gender_data = pd.DataFrame(clean_df.groupby(['Gender']).count()).reset_index()\n",
    "gender_data = gender_data[['Gender', 'ID']]\n",
    "# pie plot\n",
    "color = [\"blue\", \"pink\"]\n",
    "explode = (0.1, 0)\n",
    "lables= ['Male', 'Female']\n",
    "gender_data.plot(kind='pie', y = 'ID', labels=lables, autopct='%1.1f%%', \n",
    "                 title=\"Gender Distribution of farmingham study\", legend = False, figsize=(11,7), explode=explode)\n",
    "\n",
    "plt.show()"
   ]
  },
  {
   "cell_type": "code",
   "execution_count": 47,
   "id": "163f493d",
   "metadata": {},
   "outputs": [
    {
     "data": {
      "text/html": [
       "<div>\n",
       "<style scoped>\n",
       "    .dataframe tbody tr th:only-of-type {\n",
       "        vertical-align: middle;\n",
       "    }\n",
       "\n",
       "    .dataframe tbody tr th {\n",
       "        vertical-align: top;\n",
       "    }\n",
       "\n",
       "    .dataframe thead th {\n",
       "        text-align: right;\n",
       "    }\n",
       "</style>\n",
       "<table border=\"1\" class=\"dataframe\">\n",
       "  <thead>\n",
       "    <tr style=\"text-align: right;\">\n",
       "      <th></th>\n",
       "      <th>ID</th>\n",
       "      <th>Gender</th>\n",
       "      <th>Age</th>\n",
       "      <th>Education</th>\n",
       "      <th>Current-Smoker</th>\n",
       "      <th>Cigarettes-Per-Day</th>\n",
       "      <th>Blood-Pressure-Medication</th>\n",
       "      <th>Prevalent-Stroke</th>\n",
       "      <th>Prevalent-Hyp</th>\n",
       "      <th>Diabetes</th>\n",
       "      <th>Total-Cholesterol</th>\n",
       "      <th>Systolic-Blood-Pressure</th>\n",
       "      <th>Diastolic-Blood-Pressure</th>\n",
       "      <th>BMI</th>\n",
       "      <th>Heart-Rate</th>\n",
       "      <th>Glucose</th>\n",
       "      <th>Ten-Year-CHD</th>\n",
       "      <th>Count_10YCHD</th>\n",
       "    </tr>\n",
       "  </thead>\n",
       "  <tbody>\n",
       "    <tr>\n",
       "      <th>0</th>\n",
       "      <td>1</td>\n",
       "      <td>Male</td>\n",
       "      <td>39</td>\n",
       "      <td>College</td>\n",
       "      <td>0</td>\n",
       "      <td>0</td>\n",
       "      <td>0</td>\n",
       "      <td>Never had a stroke</td>\n",
       "      <td>0</td>\n",
       "      <td>negative</td>\n",
       "      <td>195</td>\n",
       "      <td>106</td>\n",
       "      <td>70</td>\n",
       "      <td>26.97</td>\n",
       "      <td>80</td>\n",
       "      <td>77.0</td>\n",
       "      <td>negative</td>\n",
       "      <td>1</td>\n",
       "    </tr>\n",
       "    <tr>\n",
       "      <th>1</th>\n",
       "      <td>2</td>\n",
       "      <td>Female</td>\n",
       "      <td>46</td>\n",
       "      <td>High School or GED</td>\n",
       "      <td>0</td>\n",
       "      <td>0</td>\n",
       "      <td>0</td>\n",
       "      <td>Never had a stroke</td>\n",
       "      <td>0</td>\n",
       "      <td>negative</td>\n",
       "      <td>250</td>\n",
       "      <td>121</td>\n",
       "      <td>81</td>\n",
       "      <td>28.73</td>\n",
       "      <td>95</td>\n",
       "      <td>76.0</td>\n",
       "      <td>negative</td>\n",
       "      <td>1</td>\n",
       "    </tr>\n",
       "    <tr>\n",
       "      <th>2</th>\n",
       "      <td>3</td>\n",
       "      <td>Male</td>\n",
       "      <td>48</td>\n",
       "      <td>Some High School</td>\n",
       "      <td>1</td>\n",
       "      <td>20</td>\n",
       "      <td>0</td>\n",
       "      <td>Never had a stroke</td>\n",
       "      <td>0</td>\n",
       "      <td>negative</td>\n",
       "      <td>245</td>\n",
       "      <td>127</td>\n",
       "      <td>80</td>\n",
       "      <td>25.34</td>\n",
       "      <td>75</td>\n",
       "      <td>70.0</td>\n",
       "      <td>negative</td>\n",
       "      <td>1</td>\n",
       "    </tr>\n",
       "    <tr>\n",
       "      <th>3</th>\n",
       "      <td>4</td>\n",
       "      <td>Female</td>\n",
       "      <td>61</td>\n",
       "      <td>Some college or Vocational School</td>\n",
       "      <td>1</td>\n",
       "      <td>30</td>\n",
       "      <td>0</td>\n",
       "      <td>Never had a stroke</td>\n",
       "      <td>1</td>\n",
       "      <td>negative</td>\n",
       "      <td>225</td>\n",
       "      <td>150</td>\n",
       "      <td>95</td>\n",
       "      <td>28.58</td>\n",
       "      <td>65</td>\n",
       "      <td>103.0</td>\n",
       "      <td>positive</td>\n",
       "      <td>1</td>\n",
       "    </tr>\n",
       "    <tr>\n",
       "      <th>4</th>\n",
       "      <td>5</td>\n",
       "      <td>Female</td>\n",
       "      <td>46</td>\n",
       "      <td>Some college or Vocational School</td>\n",
       "      <td>1</td>\n",
       "      <td>23</td>\n",
       "      <td>0</td>\n",
       "      <td>Never had a stroke</td>\n",
       "      <td>0</td>\n",
       "      <td>negative</td>\n",
       "      <td>285</td>\n",
       "      <td>130</td>\n",
       "      <td>84</td>\n",
       "      <td>23.10</td>\n",
       "      <td>85</td>\n",
       "      <td>85.0</td>\n",
       "      <td>negative</td>\n",
       "      <td>1</td>\n",
       "    </tr>\n",
       "  </tbody>\n",
       "</table>\n",
       "</div>"
      ],
      "text/plain": [
       "   ID  Gender  Age                          Education  Current-Smoker  \\\n",
       "0   1    Male   39                            College               0   \n",
       "1   2  Female   46                 High School or GED               0   \n",
       "2   3    Male   48                   Some High School               1   \n",
       "3   4  Female   61  Some college or Vocational School               1   \n",
       "4   5  Female   46  Some college or Vocational School               1   \n",
       "\n",
       "   Cigarettes-Per-Day  Blood-Pressure-Medication    Prevalent-Stroke  \\\n",
       "0                   0                          0  Never had a stroke   \n",
       "1                   0                          0  Never had a stroke   \n",
       "2                  20                          0  Never had a stroke   \n",
       "3                  30                          0  Never had a stroke   \n",
       "4                  23                          0  Never had a stroke   \n",
       "\n",
       "   Prevalent-Hyp  Diabetes  Total-Cholesterol  Systolic-Blood-Pressure  \\\n",
       "0              0  negative                195                      106   \n",
       "1              0  negative                250                      121   \n",
       "2              0  negative                245                      127   \n",
       "3              1  negative                225                      150   \n",
       "4              0  negative                285                      130   \n",
       "\n",
       "   Diastolic-Blood-Pressure    BMI  Heart-Rate  Glucose Ten-Year-CHD  \\\n",
       "0                        70  26.97          80     77.0     negative   \n",
       "1                        81  28.73          95     76.0     negative   \n",
       "2                        80  25.34          75     70.0     negative   \n",
       "3                        95  28.58          65    103.0     positive   \n",
       "4                        84  23.10          85     85.0     negative   \n",
       "\n",
       "   Count_10YCHD  \n",
       "0             1  \n",
       "1             1  \n",
       "2             1  \n",
       "3             1  \n",
       "4             1  "
      ]
     },
     "execution_count": 47,
     "metadata": {},
     "output_type": "execute_result"
    },
    {
     "data": {
      "image/png": "[encoded data removed]",
      "text/plain": [
       "<Figure size 432x288 with 1 Axes>"
      ]
     },
     "metadata": {
      "needs_background": "light"
     },
     "output_type": "display_data"
    }
   ],
   "source": [
    "# insert new column with value 1 so we can get count of male ad female\n",
    "clean_df['Count_10YCHD'] = 1\n",
    "# create pivot table to count how many female and male are TenYearCHD positive and negative and graph it\n",
    "gender_pv_df = clean_df.pivot_table('Count_10YCHD', ['Gender', 'Ten-Year-CHD'], aggfunc=\"sum\").reset_index()\n",
    "# plot the bar graph to show probabilities by Gender\n",
    "# sns.barplot(x=\"Gender\", y=\"Count_10YCHD\", hue=\"Ten-Year-CHD\", data=clean_pv_df)\n",
    "# stacked barplot - i need to add percentage of total gender vs positive and negative\n",
    "gender_bar = sns.histplot(gender_pv_df, x=\"Gender\", weights=\"Count_10YCHD\", hue=\"Ten-Year-CHD\", multiple='stack')\n",
    "gender_bar.set_ylabel('Count_10YCHD')\n",
    "legend = gender_bar.get_legend()\n",
    "legend.set_bbox_to_anchor((1, 1))\n",
    "gender_bar.set_title('Ten Year CHD Probabilities by Gender')\n",
    "clean_df.head()\n"
   ]
  },
  {
   "cell_type": "code",
   "execution_count": 48,
   "id": "39d98095",
   "metadata": {},
   "outputs": [
    {
     "data": {
      "image/png": "[encoded data removed]",
      "text/plain": [
       "<Figure size 432x288 with 1 Axes>"
      ]
     },
     "metadata": {
      "needs_background": "light"
     },
     "output_type": "display_data"
    }
   ],
   "source": [
    "# let's check if education is relevant - do step 53 and 54 to create pivot table and graph it.\n",
    "# create pivot table to show education vs Ten Year CHD in the dataset\n",
    "\n",
    "education_pv_df = clean_df.pivot_table('Count_10YCHD', ['Education', 'Ten-Year-CHD'], aggfunc=\"sum\").reset_index()\n",
    "# plot the bar graph to show probabilities by Education - add % of people had lower education\n",
    "education_bar = sns.barplot(x=\"Education\", y=\"Count_10YCHD\", hue=\"Ten-Year-CHD\", data=education_pv_df)\n",
    "education_bar.set_title('Ten Year CHD Probabilities by Education')\n",
    "plt.setp(education_bar.get_xticklabels(), rotation=60)\n",
    "legend = education_bar.get_legend()\n",
    "legend.set_bbox_to_anchor((1, 1))"
   ]
  },
  {
   "cell_type": "code",
   "execution_count": 49,
   "id": "f509edf2",
   "metadata": {},
   "outputs": [
    {
     "data": {
      "text/plain": [
       "array([39, 46, 48, 61, 43, 63, 45, 52, 50, 41, 38, 42, 44, 47, 35, 60, 36,\n",
       "       59, 54, 37, 53, 49, 65, 51, 62, 40, 56, 67, 57, 66, 64, 55, 58, 68,\n",
       "       34, 33, 32, 70, 69], dtype=int64)"
      ]
     },
     "execution_count": 49,
     "metadata": {},
     "output_type": "execute_result"
    }
   ],
   "source": [
    "# let's check which age group and gender smoke more.\n",
    "# to do this, we need to create the agegroup range bins.follow steps 53 and 54 again and graph it\n",
    "clean_df['Age'].unique()"
   ]
  },
  {
   "cell_type": "code",
   "execution_count": 50,
   "id": "a5805814",
   "metadata": {},
   "outputs": [
    {
     "data": {
      "text/html": [
       "<div>\n",
       "<style scoped>\n",
       "    .dataframe tbody tr th:only-of-type {\n",
       "        vertical-align: middle;\n",
       "    }\n",
       "\n",
       "    .dataframe tbody tr th {\n",
       "        vertical-align: top;\n",
       "    }\n",
       "\n",
       "    .dataframe thead th {\n",
       "        text-align: right;\n",
       "    }\n",
       "</style>\n",
       "<table border=\"1\" class=\"dataframe\">\n",
       "  <thead>\n",
       "    <tr style=\"text-align: right;\">\n",
       "      <th></th>\n",
       "      <th>ID</th>\n",
       "      <th>Gender</th>\n",
       "      <th>Age</th>\n",
       "      <th>Education</th>\n",
       "      <th>Current-Smoker</th>\n",
       "      <th>Cigarettes-Per-Day</th>\n",
       "      <th>Blood-Pressure-Medication</th>\n",
       "      <th>Prevalent-Stroke</th>\n",
       "      <th>Prevalent-Hyp</th>\n",
       "      <th>Diabetes</th>\n",
       "      <th>Total-Cholesterol</th>\n",
       "      <th>Systolic-Blood-Pressure</th>\n",
       "      <th>Diastolic-Blood-Pressure</th>\n",
       "      <th>BMI</th>\n",
       "      <th>Heart-Rate</th>\n",
       "      <th>Glucose</th>\n",
       "      <th>Ten-Year-CHD</th>\n",
       "      <th>Count_10YCHD</th>\n",
       "      <th>AgeGroup</th>\n",
       "    </tr>\n",
       "  </thead>\n",
       "  <tbody>\n",
       "    <tr>\n",
       "      <th>0</th>\n",
       "      <td>1</td>\n",
       "      <td>Male</td>\n",
       "      <td>39</td>\n",
       "      <td>College</td>\n",
       "      <td>0</td>\n",
       "      <td>0</td>\n",
       "      <td>0</td>\n",
       "      <td>Never had a stroke</td>\n",
       "      <td>0</td>\n",
       "      <td>negative</td>\n",
       "      <td>195</td>\n",
       "      <td>106</td>\n",
       "      <td>70</td>\n",
       "      <td>26.97</td>\n",
       "      <td>80</td>\n",
       "      <td>77.0</td>\n",
       "      <td>negative</td>\n",
       "      <td>1</td>\n",
       "      <td>30-39 years</td>\n",
       "    </tr>\n",
       "    <tr>\n",
       "      <th>1</th>\n",
       "      <td>2</td>\n",
       "      <td>Female</td>\n",
       "      <td>46</td>\n",
       "      <td>High School or GED</td>\n",
       "      <td>0</td>\n",
       "      <td>0</td>\n",
       "      <td>0</td>\n",
       "      <td>Never had a stroke</td>\n",
       "      <td>0</td>\n",
       "      <td>negative</td>\n",
       "      <td>250</td>\n",
       "      <td>121</td>\n",
       "      <td>81</td>\n",
       "      <td>28.73</td>\n",
       "      <td>95</td>\n",
       "      <td>76.0</td>\n",
       "      <td>negative</td>\n",
       "      <td>1</td>\n",
       "      <td>40-49 years</td>\n",
       "    </tr>\n",
       "    <tr>\n",
       "      <th>2</th>\n",
       "      <td>3</td>\n",
       "      <td>Male</td>\n",
       "      <td>48</td>\n",
       "      <td>Some High School</td>\n",
       "      <td>1</td>\n",
       "      <td>20</td>\n",
       "      <td>0</td>\n",
       "      <td>Never had a stroke</td>\n",
       "      <td>0</td>\n",
       "      <td>negative</td>\n",
       "      <td>245</td>\n",
       "      <td>127</td>\n",
       "      <td>80</td>\n",
       "      <td>25.34</td>\n",
       "      <td>75</td>\n",
       "      <td>70.0</td>\n",
       "      <td>negative</td>\n",
       "      <td>1</td>\n",
       "      <td>40-49 years</td>\n",
       "    </tr>\n",
       "    <tr>\n",
       "      <th>3</th>\n",
       "      <td>4</td>\n",
       "      <td>Female</td>\n",
       "      <td>61</td>\n",
       "      <td>Some college or Vocational School</td>\n",
       "      <td>1</td>\n",
       "      <td>30</td>\n",
       "      <td>0</td>\n",
       "      <td>Never had a stroke</td>\n",
       "      <td>1</td>\n",
       "      <td>negative</td>\n",
       "      <td>225</td>\n",
       "      <td>150</td>\n",
       "      <td>95</td>\n",
       "      <td>28.58</td>\n",
       "      <td>65</td>\n",
       "      <td>103.0</td>\n",
       "      <td>positive</td>\n",
       "      <td>1</td>\n",
       "      <td>60-70years</td>\n",
       "    </tr>\n",
       "    <tr>\n",
       "      <th>4</th>\n",
       "      <td>5</td>\n",
       "      <td>Female</td>\n",
       "      <td>46</td>\n",
       "      <td>Some college or Vocational School</td>\n",
       "      <td>1</td>\n",
       "      <td>23</td>\n",
       "      <td>0</td>\n",
       "      <td>Never had a stroke</td>\n",
       "      <td>0</td>\n",
       "      <td>negative</td>\n",
       "      <td>285</td>\n",
       "      <td>130</td>\n",
       "      <td>84</td>\n",
       "      <td>23.10</td>\n",
       "      <td>85</td>\n",
       "      <td>85.0</td>\n",
       "      <td>negative</td>\n",
       "      <td>1</td>\n",
       "      <td>40-49 years</td>\n",
       "    </tr>\n",
       "  </tbody>\n",
       "</table>\n",
       "</div>"
      ],
      "text/plain": [
       "   ID  Gender  Age                          Education  Current-Smoker  \\\n",
       "0   1    Male   39                            College               0   \n",
       "1   2  Female   46                 High School or GED               0   \n",
       "2   3    Male   48                   Some High School               1   \n",
       "3   4  Female   61  Some college or Vocational School               1   \n",
       "4   5  Female   46  Some college or Vocational School               1   \n",
       "\n",
       "   Cigarettes-Per-Day  Blood-Pressure-Medication    Prevalent-Stroke  \\\n",
       "0                   0                          0  Never had a stroke   \n",
       "1                   0                          0  Never had a stroke   \n",
       "2                  20                          0  Never had a stroke   \n",
       "3                  30                          0  Never had a stroke   \n",
       "4                  23                          0  Never had a stroke   \n",
       "\n",
       "   Prevalent-Hyp  Diabetes  Total-Cholesterol  Systolic-Blood-Pressure  \\\n",
       "0              0  negative                195                      106   \n",
       "1              0  negative                250                      121   \n",
       "2              0  negative                245                      127   \n",
       "3              1  negative                225                      150   \n",
       "4              0  negative                285                      130   \n",
       "\n",
       "   Diastolic-Blood-Pressure    BMI  Heart-Rate  Glucose Ten-Year-CHD  \\\n",
       "0                        70  26.97          80     77.0     negative   \n",
       "1                        81  28.73          95     76.0     negative   \n",
       "2                        80  25.34          75     70.0     negative   \n",
       "3                        95  28.58          65    103.0     positive   \n",
       "4                        84  23.10          85     85.0     negative   \n",
       "\n",
       "   Count_10YCHD     AgeGroup  \n",
       "0             1  30-39 years  \n",
       "1             1  40-49 years  \n",
       "2             1  40-49 years  \n",
       "3             1   60-70years  \n",
       "4             1  40-49 years  "
      ]
     },
     "execution_count": 50,
     "metadata": {},
     "output_type": "execute_result"
    }
   ],
   "source": [
    "# lets set the Ages range from max age 32 to 70 to create groups\n",
    "clean_df['AgeGroup'] = pd.cut(x=clean_df['Age'], bins = [30 , 39, 49, 59, 70],\n",
    "                              labels=['30-39 years', '40-49 years', '50-59 years', '60-70years'])\n",
    "clean_df.head()"
   ]
  },
  {
   "cell_type": "code",
   "execution_count": 51,
   "id": "1366a876",
   "metadata": {},
   "outputs": [
    {
     "data": {
      "text/plain": [
       "[None, None, None, None, None, None, None, None]"
      ]
     },
     "execution_count": 51,
     "metadata": {},
     "output_type": "execute_result"
    },
    {
     "data": {
      "image/png": "[encoded data removed]",
      "text/plain": [
       "<Figure size 432x288 with 1 Axes>"
      ]
     },
     "metadata": {
      "needs_background": "light"
     },
     "output_type": "display_data"
    }
   ],
   "source": [
    "# create pivot table to show smokers vs Ten-Year-CHD\n",
    "smoker_pv_df = clean_df.pivot_table('Current-Smoker', ['Gender', 'AgeGroup'], aggfunc=\"sum\").reset_index()\n",
    "# plot the bar graph to show probabilities by current smoker\n",
    "smoker_bar = sns.barplot(x=\"AgeGroup\", y=\"Current-Smoker\", hue=\"Gender\", data=smoker_pv_df)\n",
    "smoker_bar.set_title('Number of smokers by Gender and Age Group')\n",
    "plt.setp(smoker_bar.get_xticklabels(), rotation=20)\n"
   ]
  },
  {
   "cell_type": "code",
   "execution_count": 52,
   "id": "556edafd",
   "metadata": {},
   "outputs": [
    {
     "data": {
      "text/html": [
       "<div>\n",
       "<style scoped>\n",
       "    .dataframe tbody tr th:only-of-type {\n",
       "        vertical-align: middle;\n",
       "    }\n",
       "\n",
       "    .dataframe tbody tr th {\n",
       "        vertical-align: top;\n",
       "    }\n",
       "\n",
       "    .dataframe thead th {\n",
       "        text-align: right;\n",
       "    }\n",
       "</style>\n",
       "<table border=\"1\" class=\"dataframe\">\n",
       "  <thead>\n",
       "    <tr style=\"text-align: right;\">\n",
       "      <th></th>\n",
       "      <th>Diabetes</th>\n",
       "      <th>Ten-Year-CHD</th>\n",
       "      <th>Count_10YCHD</th>\n",
       "    </tr>\n",
       "  </thead>\n",
       "  <tbody>\n",
       "    <tr>\n",
       "      <th>0</th>\n",
       "      <td>negative</td>\n",
       "      <td>negative</td>\n",
       "      <td>3037</td>\n",
       "    </tr>\n",
       "    <tr>\n",
       "      <th>1</th>\n",
       "      <td>negative</td>\n",
       "      <td>positive</td>\n",
       "      <td>522</td>\n",
       "    </tr>\n",
       "    <tr>\n",
       "      <th>2</th>\n",
       "      <td>positive</td>\n",
       "      <td>negative</td>\n",
       "      <td>64</td>\n",
       "    </tr>\n",
       "    <tr>\n",
       "      <th>3</th>\n",
       "      <td>positive</td>\n",
       "      <td>positive</td>\n",
       "      <td>35</td>\n",
       "    </tr>\n",
       "  </tbody>\n",
       "</table>\n",
       "</div>"
      ],
      "text/plain": [
       "   Diabetes Ten-Year-CHD  Count_10YCHD\n",
       "0  negative     negative          3037\n",
       "1  negative     positive           522\n",
       "2  positive     negative            64\n",
       "3  positive     positive            35"
      ]
     },
     "execution_count": 52,
     "metadata": {},
     "output_type": "execute_result"
    },
    {
     "data": {
      "image/png": "[encoded data removed]",
      "text/plain": [
       "<Figure size 432x288 with 1 Axes>"
      ]
     },
     "metadata": {
      "needs_background": "light"
     },
     "output_type": "display_data"
    }
   ],
   "source": [
    "# let's check relationship between all the health conditions in the incidence of heart disease.\n",
    "# show Diabetes vs Ten Year CHD\n",
    "diabetes_pv_df = clean_df.pivot_table('Count_10YCHD', ['Diabetes', 'Ten-Year-CHD'], aggfunc=\"sum\").reset_index()\n",
    "# plot the bar graph to show probabilities by diabetes vs Ten Year CHD\n",
    "# diabetes_bar = sns.barplot(x=\"Ten-Year-CHD\", y=\"Count_10YCHD\", hue=\"Diabetes\", data=diabetes_pv_df)\n",
    "# diabetes_bar.set_title('Diabetes and Probability of CHD')\n",
    "# plt.setp(diabetes_bar.get_xticklabels(), rotation=20)\n",
    "\n",
    "diabetes_bar = sns.histplot(diabetes_pv_df, x=\"Ten-Year-CHD\", weights=\"Count_10YCHD\", hue=\"Diabetes\", multiple='stack')\n",
    "diabetes_bar.set_ylabel('Count_10YCHD')\n",
    "legend = diabetes_bar.get_legend()\n",
    "legend.set_bbox_to_anchor((1, 1))\n",
    "diabetes_bar.set_title('Diabetes and Probability of CHD')\n",
    "diabetes_pv_df"
   ]
  },
  {
   "cell_type": "code",
   "execution_count": 54,
   "id": "2d5af9f7",
   "metadata": {},
   "outputs": [
    {
     "data": {
      "text/plain": [
       "Text(0.5, 1.0, 'Total Cholesterol by age group')"
      ]
     },
     "execution_count": 54,
     "metadata": {},
     "output_type": "execute_result"
    },
    {
     "data": {
      "image/png": "[encoded data removed]",
      "text/plain": [
       "<Figure size 432x288 with 1 Axes>"
      ]
     },
     "metadata": {
      "needs_background": "light"
     },
     "output_type": "display_data"
    }
   ],
   "source": [
    "# same plot as cell 177\n",
    "chol_plot = sns.boxplot(x=\"AgeGroup\", y=\"Total-Cholesterol\", data=clean_df)\n",
    "chol_plot.set_title('Total Cholesterol by age group')"
   ]
  },
  {
   "cell_type": "code",
   "execution_count": 56,
   "id": "809542d7",
   "metadata": {},
   "outputs": [
    {
     "data": {
      "text/plain": [
       "Text(0.5, 1.0, 'Total BMI by age group')"
      ]
     },
     "execution_count": 56,
     "metadata": {},
     "output_type": "execute_result"
    },
    {
     "data": {
      "image/png": "[encoded data removed]",
      "text/plain": [
       "<Figure size 432x288 with 1 Axes>"
      ]
     },
     "metadata": {
      "needs_background": "light"
     },
     "output_type": "display_data"
    }
   ],
   "source": [
    "# plot BMI by age group\n",
    "bmi_plot = sns.boxplot(x=\"AgeGroup\", y=\"BMI\", data=clean_df)\n",
    "bmi_plot.set_title('Total BMI by age group')"
   ]
  },
  {
   "cell_type": "code",
   "execution_count": 57,
   "id": "a3c886ea",
   "metadata": {},
   "outputs": [
    {
     "data": {
      "text/plain": [
       "Text(0.5, 1.0, 'Total Glucose by age group')"
      ]
     },
     "execution_count": 57,
     "metadata": {},
     "output_type": "execute_result"
    },
    {
     "data": {
      "image/png": "[encoded data removed]",
      "text/plain": [
       "<Figure size 432x288 with 1 Axes>"
      ]
     },
     "metadata": {
      "needs_background": "light"
     },
     "output_type": "display_data"
    }
   ],
   "source": [
    "# plot Glucose by age group\n",
    "glucose_plot = sns.boxplot(x=\"AgeGroup\", y=\"Glucose\", data=clean_df)\n",
    "glucose_plot.set_title('Total Glucose by age group')"
   ]
  },
  {
   "cell_type": "code",
   "execution_count": 58,
   "id": "cb8e3c9f",
   "metadata": {},
   "outputs": [
    {
     "data": {
      "text/plain": [
       "Text(0.5, 1.0, 'Heart Rate by age group')"
      ]
     },
     "execution_count": 58,
     "metadata": {},
     "output_type": "execute_result"
    },
    {
     "data": {
      "image/png": "[encoded data removed]",
      "text/plain": [
       "<Figure size 432x288 with 1 Axes>"
      ]
     },
     "metadata": {
      "needs_background": "light"
     },
     "output_type": "display_data"
    }
   ],
   "source": [
    "# plot Heart rate by age group\n",
    "heart_plot = sns.boxplot(x=\"AgeGroup\", y=\"Heart-Rate\",data=clean_df,palette=\"Set3\",linewidth=2.5)\n",
    "heart_plot.set_title('Heart Rate by age group')"
   ]
  },
  {
   "cell_type": "code",
   "execution_count": 59,
   "id": "12bd3705",
   "metadata": {},
   "outputs": [
    {
     "data": {
      "text/plain": [
       "Text(0.5, 1.0, 'Heart Rate by age group')"
      ]
     },
     "execution_count": 59,
     "metadata": {},
     "output_type": "execute_result"
    },
    {
     "data": {
      "image/png": "[encoded data removed]",
      "text/plain": [
       "<Figure size 432x288 with 1 Axes>"
      ]
     },
     "metadata": {
      "needs_background": "light"
     },
     "output_type": "display_data"
    }
   ],
   "source": [
    "# plot Blood Pressure by age group\n",
    "bprate_plot1 = sns.boxplot(x=\"AgeGroup\", y=\"Systolic-Blood-Pressure\",data=clean_df)\n",
    "bprate_plot2 = sns.boxplot(x=\"AgeGroup\", y=\"Diastolic-Blood-Pressure\",data=clean_df,palette=\"Set3\",linewidth=2.5)\n",
    "bprate_plot1.set_title('Heart Rate by age group')"
   ]
  },
  {
   "cell_type": "code",
   "execution_count": null,
   "id": "08692367",
   "metadata": {},
   "outputs": [],
   "source": []
  },
  {
   "cell_type": "code",
   "execution_count": null,
   "id": "ff9d3b51",
   "metadata": {},
   "outputs": [],
   "source": []
  },
  {
   "cell_type": "code",
   "execution_count": null,
   "id": "d6bc28ac",
   "metadata": {},
   "outputs": [],
   "source": []
  }
 ],
 "metadata": {
  "kernelspec": {
   "display_name": "Python 3",
   "language": "python",
   "name": "python3"
  },
  "language_info": {
   "codemirror_mode": {
    "name": "ipython",
    "version": 3
   },
   "file_extension": ".py",
   "mimetype": "text/x-python",
   "name": "python",
   "nbconvert_exporter": "python",
   "pygments_lexer": "ipython3",
   "version": "3.8.8"
  }
 },
 "nbformat": 4,
 "nbformat_minor": 5
}
