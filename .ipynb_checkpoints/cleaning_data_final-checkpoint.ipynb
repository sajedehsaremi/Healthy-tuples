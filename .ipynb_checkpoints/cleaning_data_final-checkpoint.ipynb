{
 "cells": [
  {
   "cell_type": "code",
   "execution_count": 1,
   "id": "2d033bbe",
   "metadata": {},
   "outputs": [],
   "source": [
    "# Dependencies\n",
    "import numpy as np\n",
    "import pandas as pd\n",
    "import matplotlib.pyplot as plt\n",
    "from scipy.stats import linregress\n",
    "import seaborn as sns\n",
    "%matplotlib inline\n"
   ]
  },
  {
   "cell_type": "code",
   "execution_count": 2,
   "id": "80b66b61",
   "metadata": {},
   "outputs": [
    {
     "name": "stdout",
     "output_type": "stream",
     "text": [
      "ID                   0\n",
      "male                 0\n",
      "age                  0\n",
      "education          105\n",
      "currentSmoker        0\n",
      "cigsPerDay          29\n",
      "BPMeds              53\n",
      "prevalentStroke      0\n",
      "prevalentHyp         0\n",
      "diabetes             0\n",
      "totChol             50\n",
      "sysBP                0\n",
      "diaBP                0\n",
      "BMI                 19\n",
      "heartRate            1\n",
      "glucose            388\n",
      "TenYearCHD           0\n",
      "dtype: int64\n"
     ]
    }
   ],
   "source": [
    "# import the farmingham data\n",
    "framingham_data = pd.read_csv(\"output_data/framingham.csv\")\n",
    "# identify any null values\n",
    "framingham_data.count()\n",
    "# identify the data type\n",
    "framingham_data.dtypes\n",
    "print(framingham_data.isna().sum())\n"
   ]
  },
  {
   "cell_type": "code",
   "execution_count": 3,
   "id": "b160caac",
   "metadata": {},
   "outputs": [
    {
     "name": "stdout",
     "output_type": "stream",
     "text": [
      "ID                 3658\n",
      "male               3658\n",
      "age                3658\n",
      "education          3658\n",
      "currentSmoker      3658\n",
      "cigsPerDay         3658\n",
      "BPMeds             3658\n",
      "prevalentStroke    3658\n",
      "prevalentHyp       3658\n",
      "diabetes           3658\n",
      "totChol            3658\n",
      "sysBP              3658\n",
      "diaBP              3658\n",
      "BMI                3658\n",
      "heartRate          3658\n",
      "glucose            3658\n",
      "TenYearCHD         3658\n",
      "dtype: int64\n"
     ]
    }
   ],
   "source": [
    "# drop any null valules - lets not drop the null values and fill it in with mean\n",
    "framingham_data = framingham_data.dropna(how=\"any\")\n",
    "print(framingham_data.count())\n"
   ]
  },
  {
   "cell_type": "code",
   "execution_count": 4,
   "id": "975ba371",
   "metadata": {},
   "outputs": [
    {
     "data": {
      "text/plain": [
       "ID                   int64\n",
       "male                 int64\n",
       "age                  int64\n",
       "education            int32\n",
       "currentSmoker        int64\n",
       "cigsPerDay           int32\n",
       "BPMeds               int32\n",
       "prevalentStroke      int64\n",
       "prevalentHyp         int64\n",
       "diabetes             int64\n",
       "totChol              int32\n",
       "sysBP                int32\n",
       "diaBP                int32\n",
       "BMI                float64\n",
       "heartRate            int32\n",
       "glucose            float64\n",
       "TenYearCHD           int64\n",
       "dtype: object"
      ]
     },
     "execution_count": 4,
     "metadata": {},
     "output_type": "execute_result"
    }
   ],
   "source": [
    "\n",
    "\n",
    "#  convert the someof the floats to integer\n",
    "framingham_data.loc[:, \"BPMeds\"] = framingham_data.loc[:, \"BPMeds\"].astype(\"int\")\n",
    "framingham_data.loc[:, \"education\"] = framingham_data.loc[:, \"education\"].astype(\"int\")\n",
    "framingham_data.loc[:, \"cigsPerDay\"] = framingham_data.loc[:, \"cigsPerDay\"].astype(\"int\")\n",
    "framingham_data.loc[:, \"totChol\"] = framingham_data.loc[:, \"totChol\"].astype(\"int\")\n",
    "framingham_data.loc[:, \"sysBP\"] = framingham_data.loc[:, \"sysBP\"].astype(\"int\")\n",
    "framingham_data.loc[:, \"diaBP\"] = framingham_data.loc[:, \"diaBP\"].astype(\"int\")\n",
    "framingham_data.loc[:, \"heartRate\"] = framingham_data.loc[:, \"heartRate\"].astype(\"int\")\n",
    "framingham_data.dtypes\n"
   ]
  },
  {
   "cell_type": "code",
   "execution_count": 6,
   "id": "409ea3ea",
   "metadata": {
    "scrolled": true
   },
   "outputs": [],
   "source": [
    "# rename the column name 'male' to 'Gender' and replace 0,1 to female and male\n",
    "# replace Diabetes: from 0,1 to negative and positive\n",
    "# replace TenYearCHD: from 0,1 to negative and positive\n",
    "# Renamed Column headers\n",
    "# replaced'male':0 = Female; 1 = Male=Gender\n",
    "\n",
    "clean_df = framingham_data.rename(columns = {\"male\": \"Gender\",\"age\": \"Age\",\"currentSmoker\":\"Current-Smoker\",\n",
    "                                           \"cigsPerDay\":\"Cigarettes-Per-Day\",\"education\":\"Education\",\n",
    "                                            \"prevalentStroke\":\"Prevalent-Stroke\",\"prevalentHyp\":\"Prevalent-Hyp\",\n",
    "                                           \"diabetes\":\"Diabetes\",\"totChol\":\"Total-Cholesterol\",\n",
    "                                           \"sysBP\":\"Systolic-Blood-Pressure\",\"BPMeds\":\"Blood-Pressure-Medication\",\"diaBP\":\"Diastolic-Blood-Pressure\",\n",
    "                                           \"heartRate\":\"Heart-Rate\",\"glucose\":\"Glucose\",\"TenYearCHD\":\"Ten-Year-CHD\"})\n",
    "clean_df[\"Gender\"]= clean_df[\"Gender\"].replace(1, \"Male\")\n",
    "clean_df[\"Gender\"]= clean_df[\"Gender\"].replace(0, \"Female\")\n",
    "clean_df[\"Ten-Year-CHD\"]= clean_df[\"Ten-Year-CHD\"].replace(0, \"negative\")\n",
    "clean_df[\"Ten-Year-CHD\"]= clean_df[\"Ten-Year-CHD\"].replace(1, \"positive\")\n",
    "clean_df[\"Diabetes\"]= clean_df[\"Diabetes\"].replace(0, \"No\")\n",
    "clean_df[\"Diabetes\"]= clean_df[\"Diabetes\"].replace(1, \"Yes\")\n",
    "clean_df[\"Education\"]= clean_df[\"Education\"].replace(1, \"Some High School\")\n",
    "clean_df[\"Education\"]= clean_df[\"Education\"].replace(2, \"High School or GED\")\n",
    "clean_df[\"Education\"]= clean_df[\"Education\"].replace(3, \"Some college or Vocational School\")\n",
    "clean_df[\"Education\"]= clean_df[\"Education\"].replace(4, \"College\")\n",
    "clean_df[\"Prevalent-Stroke\"]= clean_df[\"Prevalent-Stroke\"].replace(0, \"Never had a stroke\")\n",
    "clean_df[\"Prevalent-Stroke\"]= clean_df[\"Prevalent-Stroke\"].replace(1, \"Has had a stroke\")\n",
    "clean_df[\"Current-Smoker\"]= clean_df[\"Current-Smoker\"].replace(0, \"No\")\n",
    "clean_df[\"Current-Smoker\"]= clean_df[\"Current-Smoker\"].replace(1, \"Yes\")\n",
    "clean_df[\"Prevalent-Hyp\"]= clean_df[\"Prevalent-Hyp\"].replace(1, \"Yes\")\n",
    "clean_df[\"Prevalent-Hyp\"]= clean_df[\"Prevalent-Hyp\"].replace(0, \"No\")\n",
    "\n",
    "\n",
    "clean_df.count()\n",
    "# find any duplicated data - No duplicates found\n",
    "clean_df.duplicated()\n",
    "# Describe the data\n",
    "clean_df.describe()\n",
    "clean_df.to_csv(\"farmingham_study.csv\", index = False)\n",
    "\n"
   ]
  },
  {
   "cell_type": "code",
   "execution_count": 7,
   "id": "130156f2",
   "metadata": {
    "scrolled": true
   },
   "outputs": [
    {
     "data": {
      "text/html": [
       "<div>\n",
       "<style scoped>\n",
       "    .dataframe tbody tr th:only-of-type {\n",
       "        vertical-align: middle;\n",
       "    }\n",
       "\n",
       "    .dataframe tbody tr th {\n",
       "        vertical-align: top;\n",
       "    }\n",
       "\n",
       "    .dataframe thead th {\n",
       "        text-align: right;\n",
       "    }\n",
       "</style>\n",
       "<table border=\"1\" class=\"dataframe\">\n",
       "  <thead>\n",
       "    <tr style=\"text-align: right;\">\n",
       "      <th></th>\n",
       "      <th>ID</th>\n",
       "      <th>Gender</th>\n",
       "      <th>Age</th>\n",
       "      <th>Education</th>\n",
       "      <th>Current-Smoker</th>\n",
       "      <th>Cigarettes-Per-Day</th>\n",
       "      <th>Blood-Pressure-Medication</th>\n",
       "      <th>Prevalent-Stroke</th>\n",
       "      <th>Prevalent-Hyp</th>\n",
       "      <th>Diabetes</th>\n",
       "      <th>Total-Cholesterol</th>\n",
       "      <th>Systolic-Blood-Pressure</th>\n",
       "      <th>Diastolic-Blood-Pressure</th>\n",
       "      <th>BMI</th>\n",
       "      <th>Heart-Rate</th>\n",
       "      <th>Glucose</th>\n",
       "      <th>Ten-Year-CHD</th>\n",
       "    </tr>\n",
       "  </thead>\n",
       "  <tbody>\n",
       "    <tr>\n",
       "      <th>0</th>\n",
       "      <td>1</td>\n",
       "      <td>Male</td>\n",
       "      <td>39</td>\n",
       "      <td>College</td>\n",
       "      <td>No</td>\n",
       "      <td>0</td>\n",
       "      <td>0</td>\n",
       "      <td>Never had a stroke</td>\n",
       "      <td>No</td>\n",
       "      <td>No</td>\n",
       "      <td>195</td>\n",
       "      <td>106</td>\n",
       "      <td>70</td>\n",
       "      <td>26.97</td>\n",
       "      <td>80</td>\n",
       "      <td>77.0</td>\n",
       "      <td>negative</td>\n",
       "    </tr>\n",
       "    <tr>\n",
       "      <th>1</th>\n",
       "      <td>2</td>\n",
       "      <td>Female</td>\n",
       "      <td>46</td>\n",
       "      <td>High School or GED</td>\n",
       "      <td>No</td>\n",
       "      <td>0</td>\n",
       "      <td>0</td>\n",
       "      <td>Never had a stroke</td>\n",
       "      <td>No</td>\n",
       "      <td>No</td>\n",
       "      <td>250</td>\n",
       "      <td>121</td>\n",
       "      <td>81</td>\n",
       "      <td>28.73</td>\n",
       "      <td>95</td>\n",
       "      <td>76.0</td>\n",
       "      <td>negative</td>\n",
       "    </tr>\n",
       "    <tr>\n",
       "      <th>2</th>\n",
       "      <td>3</td>\n",
       "      <td>Male</td>\n",
       "      <td>48</td>\n",
       "      <td>Some High School</td>\n",
       "      <td>Yes</td>\n",
       "      <td>20</td>\n",
       "      <td>0</td>\n",
       "      <td>Never had a stroke</td>\n",
       "      <td>No</td>\n",
       "      <td>No</td>\n",
       "      <td>245</td>\n",
       "      <td>127</td>\n",
       "      <td>80</td>\n",
       "      <td>25.34</td>\n",
       "      <td>75</td>\n",
       "      <td>70.0</td>\n",
       "      <td>negative</td>\n",
       "    </tr>\n",
       "    <tr>\n",
       "      <th>3</th>\n",
       "      <td>4</td>\n",
       "      <td>Female</td>\n",
       "      <td>61</td>\n",
       "      <td>Some college or Vocational School</td>\n",
       "      <td>Yes</td>\n",
       "      <td>30</td>\n",
       "      <td>0</td>\n",
       "      <td>Never had a stroke</td>\n",
       "      <td>Yes</td>\n",
       "      <td>No</td>\n",
       "      <td>225</td>\n",
       "      <td>150</td>\n",
       "      <td>95</td>\n",
       "      <td>28.58</td>\n",
       "      <td>65</td>\n",
       "      <td>103.0</td>\n",
       "      <td>positive</td>\n",
       "    </tr>\n",
       "    <tr>\n",
       "      <th>4</th>\n",
       "      <td>5</td>\n",
       "      <td>Female</td>\n",
       "      <td>46</td>\n",
       "      <td>Some college or Vocational School</td>\n",
       "      <td>Yes</td>\n",
       "      <td>23</td>\n",
       "      <td>0</td>\n",
       "      <td>Never had a stroke</td>\n",
       "      <td>No</td>\n",
       "      <td>No</td>\n",
       "      <td>285</td>\n",
       "      <td>130</td>\n",
       "      <td>84</td>\n",
       "      <td>23.10</td>\n",
       "      <td>85</td>\n",
       "      <td>85.0</td>\n",
       "      <td>negative</td>\n",
       "    </tr>\n",
       "    <tr>\n",
       "      <th>...</th>\n",
       "      <td>...</td>\n",
       "      <td>...</td>\n",
       "      <td>...</td>\n",
       "      <td>...</td>\n",
       "      <td>...</td>\n",
       "      <td>...</td>\n",
       "      <td>...</td>\n",
       "      <td>...</td>\n",
       "      <td>...</td>\n",
       "      <td>...</td>\n",
       "      <td>...</td>\n",
       "      <td>...</td>\n",
       "      <td>...</td>\n",
       "      <td>...</td>\n",
       "      <td>...</td>\n",
       "      <td>...</td>\n",
       "      <td>...</td>\n",
       "    </tr>\n",
       "    <tr>\n",
       "      <th>4232</th>\n",
       "      <td>4233</td>\n",
       "      <td>Male</td>\n",
       "      <td>68</td>\n",
       "      <td>Some High School</td>\n",
       "      <td>No</td>\n",
       "      <td>0</td>\n",
       "      <td>0</td>\n",
       "      <td>Never had a stroke</td>\n",
       "      <td>Yes</td>\n",
       "      <td>No</td>\n",
       "      <td>176</td>\n",
       "      <td>168</td>\n",
       "      <td>97</td>\n",
       "      <td>23.14</td>\n",
       "      <td>60</td>\n",
       "      <td>79.0</td>\n",
       "      <td>positive</td>\n",
       "    </tr>\n",
       "    <tr>\n",
       "      <th>4233</th>\n",
       "      <td>4234</td>\n",
       "      <td>Male</td>\n",
       "      <td>50</td>\n",
       "      <td>Some High School</td>\n",
       "      <td>Yes</td>\n",
       "      <td>1</td>\n",
       "      <td>0</td>\n",
       "      <td>Never had a stroke</td>\n",
       "      <td>Yes</td>\n",
       "      <td>No</td>\n",
       "      <td>313</td>\n",
       "      <td>179</td>\n",
       "      <td>92</td>\n",
       "      <td>25.97</td>\n",
       "      <td>66</td>\n",
       "      <td>86.0</td>\n",
       "      <td>positive</td>\n",
       "    </tr>\n",
       "    <tr>\n",
       "      <th>4234</th>\n",
       "      <td>4235</td>\n",
       "      <td>Male</td>\n",
       "      <td>51</td>\n",
       "      <td>Some college or Vocational School</td>\n",
       "      <td>Yes</td>\n",
       "      <td>43</td>\n",
       "      <td>0</td>\n",
       "      <td>Never had a stroke</td>\n",
       "      <td>No</td>\n",
       "      <td>No</td>\n",
       "      <td>207</td>\n",
       "      <td>126</td>\n",
       "      <td>80</td>\n",
       "      <td>19.71</td>\n",
       "      <td>65</td>\n",
       "      <td>68.0</td>\n",
       "      <td>negative</td>\n",
       "    </tr>\n",
       "    <tr>\n",
       "      <th>4237</th>\n",
       "      <td>4238</td>\n",
       "      <td>Female</td>\n",
       "      <td>52</td>\n",
       "      <td>High School or GED</td>\n",
       "      <td>No</td>\n",
       "      <td>0</td>\n",
       "      <td>0</td>\n",
       "      <td>Never had a stroke</td>\n",
       "      <td>No</td>\n",
       "      <td>No</td>\n",
       "      <td>269</td>\n",
       "      <td>133</td>\n",
       "      <td>83</td>\n",
       "      <td>21.47</td>\n",
       "      <td>80</td>\n",
       "      <td>107.0</td>\n",
       "      <td>negative</td>\n",
       "    </tr>\n",
       "    <tr>\n",
       "      <th>4238</th>\n",
       "      <td>4239</td>\n",
       "      <td>Male</td>\n",
       "      <td>40</td>\n",
       "      <td>Some college or Vocational School</td>\n",
       "      <td>No</td>\n",
       "      <td>0</td>\n",
       "      <td>0</td>\n",
       "      <td>Never had a stroke</td>\n",
       "      <td>Yes</td>\n",
       "      <td>No</td>\n",
       "      <td>185</td>\n",
       "      <td>141</td>\n",
       "      <td>98</td>\n",
       "      <td>25.60</td>\n",
       "      <td>67</td>\n",
       "      <td>72.0</td>\n",
       "      <td>negative</td>\n",
       "    </tr>\n",
       "  </tbody>\n",
       "</table>\n",
       "<p>3657 rows × 17 columns</p>\n",
       "</div>"
      ],
      "text/plain": [
       "        ID  Gender  Age                          Education Current-Smoker  \\\n",
       "0        1    Male   39                            College             No   \n",
       "1        2  Female   46                 High School or GED             No   \n",
       "2        3    Male   48                   Some High School            Yes   \n",
       "3        4  Female   61  Some college or Vocational School            Yes   \n",
       "4        5  Female   46  Some college or Vocational School            Yes   \n",
       "...    ...     ...  ...                                ...            ...   \n",
       "4232  4233    Male   68                   Some High School             No   \n",
       "4233  4234    Male   50                   Some High School            Yes   \n",
       "4234  4235    Male   51  Some college or Vocational School            Yes   \n",
       "4237  4238  Female   52                 High School or GED             No   \n",
       "4238  4239    Male   40  Some college or Vocational School             No   \n",
       "\n",
       "      Cigarettes-Per-Day  Blood-Pressure-Medication    Prevalent-Stroke  \\\n",
       "0                      0                          0  Never had a stroke   \n",
       "1                      0                          0  Never had a stroke   \n",
       "2                     20                          0  Never had a stroke   \n",
       "3                     30                          0  Never had a stroke   \n",
       "4                     23                          0  Never had a stroke   \n",
       "...                  ...                        ...                 ...   \n",
       "4232                   0                          0  Never had a stroke   \n",
       "4233                   1                          0  Never had a stroke   \n",
       "4234                  43                          0  Never had a stroke   \n",
       "4237                   0                          0  Never had a stroke   \n",
       "4238                   0                          0  Never had a stroke   \n",
       "\n",
       "     Prevalent-Hyp Diabetes  Total-Cholesterol  Systolic-Blood-Pressure  \\\n",
       "0               No       No                195                      106   \n",
       "1               No       No                250                      121   \n",
       "2               No       No                245                      127   \n",
       "3              Yes       No                225                      150   \n",
       "4               No       No                285                      130   \n",
       "...            ...      ...                ...                      ...   \n",
       "4232           Yes       No                176                      168   \n",
       "4233           Yes       No                313                      179   \n",
       "4234            No       No                207                      126   \n",
       "4237            No       No                269                      133   \n",
       "4238           Yes       No                185                      141   \n",
       "\n",
       "      Diastolic-Blood-Pressure    BMI  Heart-Rate  Glucose Ten-Year-CHD  \n",
       "0                           70  26.97          80     77.0     negative  \n",
       "1                           81  28.73          95     76.0     negative  \n",
       "2                           80  25.34          75     70.0     negative  \n",
       "3                           95  28.58          65    103.0     positive  \n",
       "4                           84  23.10          85     85.0     negative  \n",
       "...                        ...    ...         ...      ...          ...  \n",
       "4232                        97  23.14          60     79.0     positive  \n",
       "4233                        92  25.97          66     86.0     positive  \n",
       "4234                        80  19.71          65     68.0     negative  \n",
       "4237                        83  21.47          80    107.0     negative  \n",
       "4238                        98  25.60          67     72.0     negative  \n",
       "\n",
       "[3657 rows x 17 columns]"
      ]
     },
     "execution_count": 7,
     "metadata": {},
     "output_type": "execute_result"
    }
   ],
   "source": [
    "clean_df.head(-1)"
   ]
  },
  {
   "cell_type": "markdown",
   "id": "02cd274e",
   "metadata": {},
   "source": [
    "#### 1. Find correlation between all the health conditions from the data sets.\n",
    "#### 2. Identify the outliers from the correlations\n",
    "#### 3. Graph Gender VS 10 year CHD\n",
    "#### 4. Graph Education impact on 10 year CHD\n",
    "#### 5. Graph smokers per day VS 10 year CHD\n",
    "#### 6. Graph each outliers VS 10 year CHD\n",
    "#### 7. Graph each outliers that are out of normal range and and plot it VS 10 year CHD\n",
    "#### 8. Calculate each outliers that are out of normal range and show the percentage of population developed CHD\n",
    "#### 9. Analyze step 8 to see the patterned of the percentage of population developed CHD in 10 years.\n",
    "#### 10. Conclusion - If you give me your actual number for each outliers, i can maybe predict percentage of you developing CHD in 10 years."
   ]
  },
  {
   "cell_type": "code",
   "execution_count": 8,
   "id": "42c03206",
   "metadata": {
    "scrolled": false
   },
   "outputs": [
    {
     "data": {
      "text/plain": [
       "Text(0.5, 1.0, 'Correlation between different variables of the Dataset')"
      ]
     },
     "execution_count": 8,
     "metadata": {},
     "output_type": "execute_result"
    },
    {
     "data": {
      "image/png": "[encoded data removed]",
      "text/plain": [
       "<Figure size 1008x1008 with 2 Axes>"
      ]
     },
     "metadata": {
      "needs_background": "light"
     },
     "output_type": "display_data"
    }
   ],
   "source": [
    "## Checking the correlation between output and input fields through a heatmap by the help of correlation function\n",
    "correlation = clean_df.corr()\n",
    "plt.figure(figsize=(14,14))\n",
    "g = sns.heatmap(correlation, vmax=1, square=True,cmap='coolwarm',annot= True,xticklabels=True,yticklabels=True, fmt='.1g')\n",
    "g.set_yticklabels(g.get_yticklabels(), rotation =0)\n",
    "g.set_xticklabels(g.get_yticklabels(), rotation =90)\n",
    "plt.title('Correlation between different variables of the Dataset')\n",
    "\n"
   ]
  },
  {
   "cell_type": "markdown",
   "id": "1fbd6a87",
   "metadata": {},
   "source": [
    "#### Obervation: Currentsmoker & Cigsperday has strong correlations. PrevalentHyp vs SysBP/diaBP,  Glucos vs Diabetes, and sysBP & diaBP also have Positive correlations."
   ]
  },
  {
   "cell_type": "code",
   "execution_count": 9,
   "id": "b06e135b",
   "metadata": {},
   "outputs": [
    {
     "data": {
      "text/html": [
       "<div>\n",
       "<style scoped>\n",
       "    .dataframe tbody tr th:only-of-type {\n",
       "        vertical-align: middle;\n",
       "    }\n",
       "\n",
       "    .dataframe tbody tr th {\n",
       "        vertical-align: top;\n",
       "    }\n",
       "\n",
       "    .dataframe thead th {\n",
       "        text-align: right;\n",
       "    }\n",
       "</style>\n",
       "<table border=\"1\" class=\"dataframe\">\n",
       "  <thead>\n",
       "    <tr style=\"text-align: right;\">\n",
       "      <th></th>\n",
       "      <th>ID</th>\n",
       "      <th>Age</th>\n",
       "      <th>Cigarettes-Per-Day</th>\n",
       "      <th>Blood-Pressure-Medication</th>\n",
       "      <th>Total-Cholesterol</th>\n",
       "      <th>Systolic-Blood-Pressure</th>\n",
       "      <th>Diastolic-Blood-Pressure</th>\n",
       "      <th>BMI</th>\n",
       "      <th>Heart-Rate</th>\n",
       "      <th>Glucose</th>\n",
       "    </tr>\n",
       "  </thead>\n",
       "  <tbody>\n",
       "    <tr>\n",
       "      <th>count</th>\n",
       "      <td>3658.000000</td>\n",
       "      <td>3658.000000</td>\n",
       "      <td>3658.000000</td>\n",
       "      <td>3658.000000</td>\n",
       "      <td>3658.000000</td>\n",
       "      <td>3658.000000</td>\n",
       "      <td>3658.000000</td>\n",
       "      <td>3658.000000</td>\n",
       "      <td>3658.000000</td>\n",
       "      <td>3658.000000</td>\n",
       "    </tr>\n",
       "    <tr>\n",
       "      <th>mean</th>\n",
       "      <td>2124.551941</td>\n",
       "      <td>49.551941</td>\n",
       "      <td>9.025424</td>\n",
       "      <td>0.030344</td>\n",
       "      <td>236.847731</td>\n",
       "      <td>132.276381</td>\n",
       "      <td>82.839803</td>\n",
       "      <td>25.782802</td>\n",
       "      <td>75.730727</td>\n",
       "      <td>81.852925</td>\n",
       "    </tr>\n",
       "    <tr>\n",
       "      <th>std</th>\n",
       "      <td>1230.833763</td>\n",
       "      <td>8.562029</td>\n",
       "      <td>11.921590</td>\n",
       "      <td>0.171557</td>\n",
       "      <td>44.097681</td>\n",
       "      <td>22.089816</td>\n",
       "      <td>11.980890</td>\n",
       "      <td>4.065601</td>\n",
       "      <td>11.981525</td>\n",
       "      <td>23.904164</td>\n",
       "    </tr>\n",
       "    <tr>\n",
       "      <th>min</th>\n",
       "      <td>1.000000</td>\n",
       "      <td>32.000000</td>\n",
       "      <td>0.000000</td>\n",
       "      <td>0.000000</td>\n",
       "      <td>113.000000</td>\n",
       "      <td>83.000000</td>\n",
       "      <td>48.000000</td>\n",
       "      <td>15.540000</td>\n",
       "      <td>44.000000</td>\n",
       "      <td>40.000000</td>\n",
       "    </tr>\n",
       "    <tr>\n",
       "      <th>25%</th>\n",
       "      <td>1052.250000</td>\n",
       "      <td>42.000000</td>\n",
       "      <td>0.000000</td>\n",
       "      <td>0.000000</td>\n",
       "      <td>206.000000</td>\n",
       "      <td>117.000000</td>\n",
       "      <td>75.000000</td>\n",
       "      <td>23.080000</td>\n",
       "      <td>68.000000</td>\n",
       "      <td>71.000000</td>\n",
       "    </tr>\n",
       "    <tr>\n",
       "      <th>50%</th>\n",
       "      <td>2141.500000</td>\n",
       "      <td>49.000000</td>\n",
       "      <td>0.000000</td>\n",
       "      <td>0.000000</td>\n",
       "      <td>234.000000</td>\n",
       "      <td>128.000000</td>\n",
       "      <td>82.000000</td>\n",
       "      <td>25.380000</td>\n",
       "      <td>75.000000</td>\n",
       "      <td>78.000000</td>\n",
       "    </tr>\n",
       "    <tr>\n",
       "      <th>75%</th>\n",
       "      <td>3201.750000</td>\n",
       "      <td>56.000000</td>\n",
       "      <td>20.000000</td>\n",
       "      <td>0.000000</td>\n",
       "      <td>263.000000</td>\n",
       "      <td>143.750000</td>\n",
       "      <td>90.000000</td>\n",
       "      <td>28.037500</td>\n",
       "      <td>82.000000</td>\n",
       "      <td>87.000000</td>\n",
       "    </tr>\n",
       "    <tr>\n",
       "      <th>max</th>\n",
       "      <td>4240.000000</td>\n",
       "      <td>70.000000</td>\n",
       "      <td>70.000000</td>\n",
       "      <td>1.000000</td>\n",
       "      <td>600.000000</td>\n",
       "      <td>295.000000</td>\n",
       "      <td>142.000000</td>\n",
       "      <td>56.800000</td>\n",
       "      <td>143.000000</td>\n",
       "      <td>394.000000</td>\n",
       "    </tr>\n",
       "  </tbody>\n",
       "</table>\n",
       "</div>"
      ],
      "text/plain": [
       "                ID          Age  Cigarettes-Per-Day  \\\n",
       "count  3658.000000  3658.000000         3658.000000   \n",
       "mean   2124.551941    49.551941            9.025424   \n",
       "std    1230.833763     8.562029           11.921590   \n",
       "min       1.000000    32.000000            0.000000   \n",
       "25%    1052.250000    42.000000            0.000000   \n",
       "50%    2141.500000    49.000000            0.000000   \n",
       "75%    3201.750000    56.000000           20.000000   \n",
       "max    4240.000000    70.000000           70.000000   \n",
       "\n",
       "       Blood-Pressure-Medication  Total-Cholesterol  Systolic-Blood-Pressure  \\\n",
       "count                3658.000000        3658.000000              3658.000000   \n",
       "mean                    0.030344         236.847731               132.276381   \n",
       "std                     0.171557          44.097681                22.089816   \n",
       "min                     0.000000         113.000000                83.000000   \n",
       "25%                     0.000000         206.000000               117.000000   \n",
       "50%                     0.000000         234.000000               128.000000   \n",
       "75%                     0.000000         263.000000               143.750000   \n",
       "max                     1.000000         600.000000               295.000000   \n",
       "\n",
       "       Diastolic-Blood-Pressure          BMI   Heart-Rate      Glucose  \n",
       "count               3658.000000  3658.000000  3658.000000  3658.000000  \n",
       "mean                  82.839803    25.782802    75.730727    81.852925  \n",
       "std                   11.980890     4.065601    11.981525    23.904164  \n",
       "min                   48.000000    15.540000    44.000000    40.000000  \n",
       "25%                   75.000000    23.080000    68.000000    71.000000  \n",
       "50%                   82.000000    25.380000    75.000000    78.000000  \n",
       "75%                   90.000000    28.037500    82.000000    87.000000  \n",
       "max                  142.000000    56.800000   143.000000   394.000000  "
      ]
     },
     "execution_count": 9,
     "metadata": {},
     "output_type": "execute_result"
    }
   ],
   "source": [
    "#  describe the data\n",
    "clean_df.describe()"
   ]
  },
  {
   "cell_type": "code",
   "execution_count": 10,
   "id": "163f493d",
   "metadata": {
    "scrolled": true
   },
   "outputs": [
    {
     "data": {
      "image/png": "[encoded data removed]",
      "text/plain": [
       "<Figure size 432x288 with 1 Axes>"
      ]
     },
     "metadata": {
      "needs_background": "light"
     },
     "output_type": "display_data"
    }
   ],
   "source": [
    "#  Plot CHD vs gender\n",
    "clean_df['Count_10YCHD'] = 1\n",
    "# create pivot table to count how many female and male are TenYearCHD positive and negative and graph it\n",
    "gender_pv_df = clean_df.pivot_table('Count_10YCHD', ['Gender', 'Ten-Year-CHD'], aggfunc=\"sum\").reset_index()\n",
    "# plot the bar graph to show probabilities by Gender\n",
    "gender_bar = sns.barplot(x=\"Gender\", y=\"Count_10YCHD\", hue=\"Ten-Year-CHD\", palette=\"Dark2\",data=gender_pv_df)\n",
    "gender_bar.set_title('Graph showing relation between Gender and risk of CHD')\n",
    "plt.setp(gender_bar.get_xticklabels(), rotation=60)\n",
    "legend = gender_bar.get_legend()\n",
    "legend.set_bbox_to_anchor((1, 1))\n"
   ]
  },
  {
   "cell_type": "markdown",
   "id": "c79bf4ac",
   "metadata": {},
   "source": [
    "#### Observation: Approximatey 12.29% of women and 18.92% of men are positive for CHD. According to the data sets, male have sown little higher risk of CHD.\n"
   ]
  },
  {
   "cell_type": "code",
   "execution_count": null,
   "id": "1e3937de",
   "metadata": {},
   "outputs": [],
   "source": [
    "# 12.29% of female population has developed CHD in 10 years\n",
    "# 18.92% of male population has developed CHD in 10 years\n",
    "gender = clean_df.loc[:, [\"Gender\" , \"Ten-Year-CHD\",]]\n",
    "male_no = gender.loc[gender[\"Gender\"] == \"Male\"]\n",
    "male_positive = male_no.loc[male_no[\"Ten-Year-CHD\"] == \"positive\"]\n",
    "female_no = gender.loc[gender[\"Gender\"] == \"Female\"]\n",
    "female_positive = female_no.loc[female_no[\"Ten-Year-CHD\"] == \"positive\"]\n",
    "positive_male = (male_positive.count()/male_no.count())*100\n",
    "positive_female = (female_positive.count()/female_no.count())*100\n"
   ]
  },
  {
   "cell_type": "code",
   "execution_count": null,
   "id": "39d98095",
   "metadata": {},
   "outputs": [],
   "source": [
    "# let's check if education is relevant - do step 53 and 54 to create pivot table and graph it.\n",
    "# create pivot table to show education vs Ten Year CHD in the dataset\n",
    "\n",
    "education_pv_df = clean_df.pivot_table('Count_10YCHD', ['Education', 'Ten-Year-CHD'], aggfunc=\"sum\").reset_index()\n",
    "# plot the bar graph to show probabilities by Education - add % of people had lower education\n",
    "education_bar = sns.barplot(x=\"Education\", y=\"Count_10YCHD\", hue=\"Ten-Year-CHD\", palette=\"Dark2\",data=education_pv_df)\n",
    "education_bar.set_title('Graph showing relation between Education and risk of CHD')\n",
    "plt.setp(education_bar.get_xticklabels(), rotation=60)\n",
    "legend = education_bar.get_legend()\n",
    "legend.set_bbox_to_anchor((1, 1))"
   ]
  },
  {
   "cell_type": "markdown",
   "id": "f9bab19c",
   "metadata": {},
   "source": [
    "#### Observation: 1.64% of college education developed CHD, 2% of some college education developed CHD, 3.58% of High school or GED education  developed  CHD, and 7.8% of some high school developed CHD. "
   ]
  },
  {
   "cell_type": "code",
   "execution_count": null,
   "id": "0cd21fdd",
   "metadata": {},
   "outputs": [],
   "source": [
    "education = clean_df.loc[:, [\"Education\" , \"Ten-Year-CHD\",]]\n",
    "college_no = education.loc[education[\"Education\"] == \"College\"]\n",
    "college_positive = college_no.loc[college_no[\"Ten-Year-CHD\"] == \"positive\"]\n",
    "some_college_no = education.loc[education[\"Education\"] == \"Some college or Vocational School\"]\n",
    "somecollege_positive = some_college_no.loc[some_college_no[\"Ten-Year-CHD\"] == \"positive\"]\n",
    "High_GEDNo = education.loc[education[\"Education\"] == \"High School or GED\"]\n",
    "High_GEDNo_positive = High_GEDNo.loc[High_GEDNo[\"Ten-Year-CHD\"] == \"positive\"]\n",
    "somehisch_no = education.loc[education[\"Education\"] == \"Some High School\"]\n",
    "somehischo_positive = somehisch_no.loc[somehisch_no[\"Ten-Year-CHD\"] == \"positive\"]\n",
    "college_positive_per = (college_positive.count()/education.count())*100\n",
    "somecollege_positive_per = (somecollege_positive.count()/education.count())*100\n",
    "High_GEDNo_positive_per = (High_GEDNo_positive.count()/education.count())*100\n",
    "somehischo_positive_per = (somehischo_positive.count()/education.count())*100\n"
   ]
  },
  {
   "cell_type": "code",
   "execution_count": null,
   "id": "1366a876",
   "metadata": {},
   "outputs": [],
   "source": [
    "# let's check which age group and gender smoke more.\n",
    "# to do this, we need to create the agegroup range bins.follow steps 53 and 54 again and graph it\n",
    "clean_df['Age'].unique()\n",
    "# lets set the Ages range from max age 32 to 70 to create groups\n",
    "clean_df['AgeGroup'] = pd.cut(x=clean_df['Age'], bins = [30 , 39, 49, 59, 70],\n",
    "                              labels=['30-39 years', '40-49 years', '50-59 years', '60-70years'])\n",
    "clean_df.head()\n"
   ]
  },
  {
   "cell_type": "code",
   "execution_count": null,
   "id": "9fdc459c",
   "metadata": {},
   "outputs": [],
   "source": [
    "# create pivot table to show smokers vs Ten-Year-CHD\n",
    "plt.figure(figsize=(22,6))\n",
    "smoker_bar = sns.barplot(x=\"AgeGroup\", y=\"Cigarettes-Per-Day\", hue=\"Ten-Year-CHD\", data=clean_df, palette = \"Blues\")\n",
    "plt.box(False)\n",
    "plt.title('Graph showing the relation between cigsPerDay and risk of CHD', fontsize=16)\n",
    "plt.xlabel('\\n Age group', fontsize=14)\n",
    "plt.ylabel('CigsPerDay \\n', fontsize=14)\n",
    "plt.xticks(fontsize=12)\n",
    "plt.yticks(fontsize=12)"
   ]
  },
  {
   "cell_type": "markdown",
   "id": "a1dce96f",
   "metadata": {},
   "source": [
    "#### Observation: Age group 30-39 years shows higher number of cigs per day and more positive for CHD. Low cigsPerDay shows lower risk of CHD."
   ]
  },
  {
   "cell_type": "code",
   "execution_count": null,
   "id": "6722f872",
   "metadata": {},
   "outputs": [],
   "source": [
    "# show smokers by CHD\n",
    "smokers_pv_df = clean_df.pivot_table('Count_10YCHD', ['Current-Smoker', 'Ten-Year-CHD'], aggfunc=\"sum\").reset_index()\n",
    "# smokers_pv_df = clean_df.pivot_table('Count_10YCHD', ['Current-Smoker', 'Ten-Year-CHD'], aggfunc=\"sum\").reset_index()\n",
    "smoker_bar = sns.barplot(x=\"Current-Smoker\", y=\"Count_10YCHD\", hue=\"Ten-Year-CHD\", palette=\"Dark2\", data=smokers_pv_df)\n",
    "smoker_bar.set_title('Ten Year CHD by Current Smoker')\n",
    "plt.setp(smoker_bar.get_xticklabels(), rotation=60)\n",
    "legend = smoker_bar.get_legend()\n",
    "legend.set_bbox_to_anchor((1, 1))\n"
   ]
  },
  {
   "cell_type": "markdown",
   "id": "c97eed5a",
   "metadata": {},
   "source": [
    "#### Observation: About 15.93% people who smoked were positive for CHD.  Also 14.55% people who did not smoke but were also positive for CHD. "
   ]
  },
  {
   "cell_type": "code",
   "execution_count": null,
   "id": "07aed562",
   "metadata": {},
   "outputs": [],
   "source": [
    "# Calculate what percentage of smoked and developed CHD in the age group\n",
    "# Total smokers:7.79% patient smoked\n",
    "tot_smoker = clean_df.loc[:, [\"Current-Smoker\" , \"Ten-Year-CHD\",]]\n",
    "tot_smoker_yes = tot_smoker.loc[tot_smoker[\"Current-Smoker\"] == \"Yes\"]\n",
    "# tot_smoker_per = (tot_smoker_yes.count()/tot_smoker.count())*100\n",
    "# smoker percentage 15.93% were positive for CHD\n",
    "smoker = clean_df.loc[:, [\"Current-Smoker\" , \"Ten-Year-CHD\",]]\n",
    "smoker_yes = smoker.loc[smoker[\"Current-Smoker\"] == \"Yes\"]\n",
    "smoker_positive = smoker_yes.loc[smoker_yes[\"Ten-Year-CHD\"] == \"positive\"]\n",
    "smoker_percent = (smoker_positive.count()/tot_smoker_yes.count())*100\n",
    "# 85.45% patient who smoked were negative for CHD\n",
    "# smoker_yes_neg = smoker.loc[smoker[\"Current-Smoker\"] == \"Yes\"]\n",
    "# smoker_CHD_neg = smoker_yes_neg.loc[smoker_yes_neg[\"Ten-Year-CHD\"] == \"negative\"]\n",
    "# smoker_neg_percent = (smoker_CHD_neg.count()/smoker_yes_neg.count())*100\n",
    "# 14.55 % did not smoke but they were positive for CHD\n",
    "no_smoker = smoker.loc[smoker[\"Current-Smoker\"] == \"No\"]\n",
    "no_smoker_positive = no_smoker.loc[no_smoker[\"Ten-Year-CHD\"] == \"positive\"]\n",
    "no_smoker_positive_per = (no_smoker_positive.count()/no_smoker.count())*100\n",
    "no_smoker_positive_per"
   ]
  },
  {
   "cell_type": "code",
   "execution_count": null,
   "id": "f0d84e60",
   "metadata": {},
   "outputs": [],
   "source": [
    "\n",
    "# show smokers by gender developing to years CHD\n",
    "gender_pv_df = clean_df.pivot_table('Count_10YCHD', ['Gender', 'Current-Smoker', 'Ten-Year-CHD'], aggfunc=\"sum\").reset_index()\n",
    "current_smoker_yes = gender_pv_df.loc[gender_pv_df[\"Current-Smoker\"] == \"Yes\"]\n",
    "current_smoker_bar = sns.barplot(x=\"Gender\", y=\"Count_10YCHD\", hue=\"Ten-Year-CHD\", palette=\"Dark2\", data=current_smoker_yes)\n",
    "current_smoker_bar.set_title('Graph showing relation between Gender current smoker vs CHD')\n",
    "plt.setp(current_smoker_bar.get_xticklabels(), rotation=60)\n",
    "legend = current_smoker_bar.get_legend()\n",
    "legend.set_bbox_to_anchor((1, 1))\n"
   ]
  },
  {
   "cell_type": "markdown",
   "id": "16c2e643",
   "metadata": {},
   "source": [
    "#### Observation: 11% of female smoker patients are risk of CHD vs about 20% of male smokers are risk of CHD"
   ]
  },
  {
   "cell_type": "code",
   "execution_count": null,
   "id": "556edafd",
   "metadata": {},
   "outputs": [],
   "source": [
    "# let's check relationship between Diabetes in the incidence of heart disease.\n",
    "# show Diabetes vs Ten Year CHD\n",
    "diabetes_pv_df = clean_df.pivot_table('Count_10YCHD', ['AgeGroup', 'Diabetes'], aggfunc=\"sum\").reset_index()\n",
    "# plot the bar graph \n",
    "diabetes_bar = sns.barplot(x=\"AgeGroup\", y=\"Count_10YCHD\", hue=\"Diabetes\", data=diabetes_pv_df)\n",
    "diabetes_bar.set_title('Diabetes by Agr Group')\n",
    "plt.setp(diabetes_bar.get_xticklabels(), rotation=60)\n",
    "legend = diabetes_bar.get_legend()\n",
    "legend.set_bbox_to_anchor((1, 1))\n"
   ]
  },
  {
   "cell_type": "markdown",
   "id": "eb8c0c20",
   "metadata": {},
   "source": [
    "#### Observation: Approximatley .96% patients were positive for CHD who has Diabetes. About 14.27% people who had diabetes did not developed CHD."
   ]
  },
  {
   "cell_type": "code",
   "execution_count": null,
   "id": "2c492032",
   "metadata": {},
   "outputs": [],
   "source": [
    "# show percentage of people who had Diabetes and they were positive for CHD\n",
    "diabetes = clean_df.loc[:, [\"Diabetes\" , \"Ten-Year-CHD\",]]\n",
    "diabetes_yes = diabetes.loc[diabetes[\"Diabetes\"] == \"Yes\"]\n",
    "diabetes_positive = diabetes_yes.loc[diabetes_yes[\"Ten-Year-CHD\"] == \"positive\"]\n",
    "diabetes_positive_per = (diabetes_positive.count()/diabetes.count())*100\n",
    "# show percentage of people who did not have Diabetes and they were positive for CHD\n",
    "no_diabetes = diabetes.loc[diabetes[\"Diabetes\"] == \"No\"]\n",
    "no_diabetes_positive = no_diabetes.loc[no_diabetes[\"Ten-Year-CHD\"] == \"positive\"]\n",
    "no_diabetes_positive_per = (no_diabetes_positive.count()/diabetes.count())*100\n"
   ]
  },
  {
   "cell_type": "code",
   "execution_count": null,
   "id": "74a6e59e",
   "metadata": {},
   "outputs": [],
   "source": [
    "# show Prevalent-Hyp in total dataset against CHD\n",
    "hyp_pv_df = clean_df.pivot_table('Count_10YCHD', ['Prevalent-Hyp', 'Ten-Year-CHD'], aggfunc=\"sum\").reset_index()\n",
    "hyp_bar = sns.barplot(data = hyp_pv_df, x=\"Prevalent-Hyp\", y=\"Count_10YCHD\", hue=\"Ten-Year-CHD\")\n",
    "hyp_bar.set_ylabel('Count_10YCHD')\n",
    "legend = hyp_bar.get_legend()\n",
    "legend.set_bbox_to_anchor((1, 1))\n",
    "hyp_bar.set_title('Prevalent-Hyp and Probabilitiy of CHD')\n",
    "legend = hyp_bar.get_legend()\n",
    "legend.set_bbox_to_anchor((1, 1))\n",
    "\n"
   ]
  },
  {
   "cell_type": "code",
   "execution_count": null,
   "id": "3579b149",
   "metadata": {},
   "outputs": [],
   "source": [
    "# same plot as cell 177\n",
    "chol_plot = sns.boxplot(x=\"AgeGroup\", y=\"Total-Cholesterol\", hue = \"Ten-Year-CHD\", data=clean_df)\n",
    "chol_plot.set_title('Total Cholesterol by age group')"
   ]
  },
  {
   "cell_type": "code",
   "execution_count": null,
   "id": "43fa618f",
   "metadata": {
    "scrolled": true
   },
   "outputs": [],
   "source": [
    "# compare Glucose to CHD\n",
    "# show Glucose in total dataset against CHD\n",
    "# visualizing feature selection\n",
    "plt.figure(figsize=(10,5))\n",
    "glucose_bar = sns.barplot(x= clean_df['Ten-Year-CHD'], y= clean_df['Glucose'], data=clean_df, palette = \"GnBu_d\")\n",
    "plt.title('Graph showing relation between Glucose and risk of CHD', fontsize=16)\n",
    "plt.xlabel('\\n Ten-Year-CHD', fontsize=14)\n",
    "plt.ylabel('Glucose \\n', fontsize=14)\n",
    "legend = glucose_bar.get_legend()\n",
    "plt.xticks(fontsize=12)\n",
    "plt.yticks(fontsize=12)\n",
    "plt.show()\n"
   ]
  },
  {
   "cell_type": "code",
   "execution_count": null,
   "id": "5adca4bc",
   "metadata": {},
   "outputs": [],
   "source": [
    "# show what percentage of population were positive for CHD\n",
    "plt.figure(figsize=(8,8))\n",
    "plt.pie(clean_df['Ten-Year-CHD'].value_counts(), labels=['Neg.','Pos.'], autopct='%1.2f%%', explode=[0,0.2], shadow=True, colors=['crimson','gold'])\n",
    "my_circle = plt.Circle( (0,0), 0.4, color='white', fontsixe = 15)\n",
    "p = plt.gcf()\n",
    "p.gca().add_artist(my_circle)\n",
    "plt.title('Target Class Count')"
   ]
  },
  {
   "cell_type": "markdown",
   "id": "1c8a347e",
   "metadata": {},
   "source": [
    "#### Observations: The distribution is highly imblanced. As in number of negative cases outweight the number of positive cases."
   ]
  },
  {
   "cell_type": "code",
   "execution_count": null,
   "id": "da49c0d0",
   "metadata": {},
   "outputs": [],
   "source": [
    "#  Show relation between sysBP and risk of CHD\n",
    "plt.figure(figsize=(12,8), facecolor='w')\n",
    "sns.barplot(x=clean_df[\"Ten-Year-CHD\"], y=clean_df[\"Systolic-Blood-Pressure\"])\n",
    "plt.title(\"Graph showing relation between sysBP and risk of CHD\", size=20)\n",
    "plt.ylabel(\"Systolic Blood Pressure\",size=20)\n",
    "plt.xlabel(\"TenYearCHD cases\", size=20)\n",
    "plt.xticks(size=12)\n",
    "plt.yticks(size=12)\n",
    "\n",
    "#  Show relation between diaBP and risk of CHD\n",
    "plt.figure(figsize=(12,8), facecolor='w')\n",
    "sns.barplot(x=clean_df[\"Ten-Year-CHD\"], y=clean_df[\"Diastolic-Blood-Pressure\"])\n",
    "plt.title(\"Graph showing relation between diaBP and risk of CHD\", size=20)\n",
    "plt.ylabel(\"Diastolic Blood Pressure\",size=20)\n",
    "plt.xlabel(\"TenYearCHD cases\", size=20)\n",
    "plt.xticks(size=12)\n",
    "plt.yticks(size=12)\n"
   ]
  },
  {
   "cell_type": "markdown",
   "id": "251b0d0b",
   "metadata": {},
   "source": [
    "#### Observation: high systolic shows slightly higher risk of CHD. Majority of people who has sysBP between 72-130 has lower risk of CHD. Majority of people with diaBP ranging upto 80.0 shows lower resk of CHD."
   ]
  },
  {
   "cell_type": "code",
   "execution_count": null,
   "id": "44063ace",
   "metadata": {},
   "outputs": [],
   "source": [
    "# Check for candidates with Glucose >300 (considered the Glucose factor as an outlier) \n",
    "#### note for the group: I uset boxplot!\n",
    "sns.boxplot(clean_df.Glucose,color='red')\n",
    "Outlier_sysBP = clean_df[(clean_df['Glucose'] > 300)] \n",
    "# calculate what percentage of population has Glucose level of 300 and they developed CHD in 10 years\n"
   ]
  },
  {
   "cell_type": "code",
   "execution_count": null,
   "id": "1a250cb8",
   "metadata": {},
   "outputs": [],
   "source": [
    "# Look for candidates with sysBP higher than 220 (BP>220 is considered as an outlier)\n",
    "sns.boxplot(clean_df['Systolic-Blood-Pressure'],color='purple')\n",
    "Outlier_sysBP = clean_df[(clean_df['Systolic-Blood-Pressure'] > 220)] \n"
   ]
  },
  {
   "cell_type": "markdown",
   "id": "ac312c7d",
   "metadata": {},
   "source": [
    "#### Calculate what percentage of population has high HPY and were positive for CHD"
   ]
  },
  {
   "cell_type": "code",
   "execution_count": null,
   "id": "08692367",
   "metadata": {},
   "outputs": [],
   "source": [
    "# plot Blood Pressure by age group\n",
    "bprate_plot1 = sns.boxplot(x=\"AgeGroup\", y=\"Systolic-Blood-Pressure\",data=clean_df)\n",
    "bprate_plot2 = sns.boxplot(x=\"AgeGroup\", y=\"Diastolic-Blood-Pressure\",data=clean_df,palette=\"Set3\",linewidth=2.5)\n",
    "bprate_plot1.set_title('BP by age group')\n",
    "\n"
   ]
  },
  {
   "cell_type": "code",
   "execution_count": null,
   "id": "047c8604",
   "metadata": {},
   "outputs": [],
   "source": [
    "# plot Heart rate by age group\n",
    "heart_plot = sns.boxplot(x=\"AgeGroup\", y=\"Heart-Rate\",data=clean_df,palette=\"Set3\",linewidth=2.5)\n",
    "heart_plot.set_title('Heart Rate by age group')\n"
   ]
  },
  {
   "cell_type": "code",
   "execution_count": null,
   "id": "d8597ba0",
   "metadata": {},
   "outputs": [],
   "source": [
    "\n",
    "# plot Glucose by age group\n",
    "glucose_plot = sns.boxplot(x=\"AgeGroup\", y=\"Glucose\", data=clean_df)\n",
    "glucose_plot.set_title('Total Glucose by age group')"
   ]
  },
  {
   "cell_type": "code",
   "execution_count": null,
   "id": "22f1d871",
   "metadata": {},
   "outputs": [],
   "source": [
    "# plot BMI by age group\n",
    "bmi_plot = sns.boxplot(x=\"AgeGroup\", y=\"BMI\", data=clean_df)\n",
    "bmi_plot.set_title('Total BMI by age group')"
   ]
  },
  {
   "cell_type": "markdown",
   "id": "af9b6a2c",
   "metadata": {},
   "source": [
    "#### Veronika Patel"
   ]
  },
  {
   "cell_type": "code",
   "execution_count": null,
   "id": "aa8adb72",
   "metadata": {},
   "outputs": [],
   "source": [
    "plt.figure(figsize=(20,10), facecolor='w')\n",
    "sns.boxplot(data=clean_df)\n",
    "plt.show()"
   ]
  },
  {
   "cell_type": "code",
   "execution_count": null,
   "id": "74ee7376",
   "metadata": {},
   "outputs": [],
   "source": []
  }
 ],
 "metadata": {
  "kernelspec": {
   "display_name": "Python 3",
   "language": "python",
   "name": "python3"
  },
  "language_info": {
   "codemirror_mode": {
    "name": "ipython",
    "version": 3
   },
   "file_extension": ".py",
   "mimetype": "text/x-python",
   "name": "python",
   "nbconvert_exporter": "python",
   "pygments_lexer": "ipython3",
   "version": "3.8.8"
  }
 },
 "nbformat": 4,
 "nbformat_minor": 5
}
